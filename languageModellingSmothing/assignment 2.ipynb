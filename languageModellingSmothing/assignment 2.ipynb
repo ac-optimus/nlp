{
 "cells": [
  {
   "cell_type": "code",
   "execution_count": 129,
   "metadata": {
    "collapsed": true
   },
   "outputs": [],
   "source": [
    "from nltk.tokenize import sent_tokenize, word_tokenize\n",
    "import random\n",
    "import nltk\n",
    "from operator import itemgetter\n",
    "import re\n",
    "import numpy as np"
   ]
  },
  {
   "cell_type": "code",
   "execution_count": 130,
   "metadata": {
    "collapsed": true
   },
   "outputs": [],
   "source": [
    "def addtG(TOKEN):\n",
    "    \n",
    "    for i in range (len(TOKEN)):\n",
    "        TOKEN[i] = re.sub(r'^',\"<s>\",TOKEN[i])\n",
    "        TOKEN[i] = re.sub(r'$',\"</s>\",TOKEN[i])\n",
    "    #print(TOKEN)\n"
   ]
  },
  {
   "cell_type": "code",
   "execution_count": 131,
   "metadata": {
    "collapsed": true
   },
   "outputs": [],
   "source": [
    "#unigram MLE\n",
    "def uniP(freq):\n",
    "    numTok = len(unigrams)\n",
    "    prob = {}\n",
    "    for (key,fvalue) in reversed(sorted(freq.items(), key = itemgetter(1))):\n",
    "        prob[key] = fvalue/numTok\n",
    "    \n",
    "    return prob\n"
   ]
  },
  {
   "cell_type": "code",
   "execution_count": 132,
   "metadata": {
    "collapsed": true
   },
   "outputs": [],
   "source": [
    "def textProc(file_name):\n",
    "    f= open(file_name,'r')\n",
    "    #tp1\n",
    "    corpus = f.read().replace('\\n',' ') #replace the new line with single white space.\n",
    "    corpus = corpus.lower() #tp2\n",
    "\n",
    "    token = sent_tokenize(corpus)\n",
    "\n",
    "    #replace all the non alphanumeric characters with whitespace.\n",
    "    token = [re.sub(r'[^A-Za-z0-9]',\" \", i) for i in token]#tp3\n",
    "\n",
    "    random.shuffle(token)\n",
    "\n",
    "    #addtG(token) #add tags\n",
    "    return token\n",
    "\n",
    "    #clean tokens of sentence returned\n"
   ]
  },
  {
   "cell_type": "code",
   "execution_count": 133,
   "metadata": {
    "collapsed": true
   },
   "outputs": [],
   "source": [
    "#write a function for count of n-gram\n",
    "def LstOfNgram(count,corpus):\n",
    "    #cleaned corpus\n",
    "    n_gram=[]\n",
    "    for i in corpus:\n",
    "        p = word_tokenize(i)\n",
    "        p = [\"<s>\"]+p\n",
    "        p.append(\"</s>\")    \n",
    "        #token must have start and end line tags here.\n",
    "        #print (p)\n",
    "        for g in range(count-1,len(p)):\n",
    "            dummy=\"\"\n",
    "            for j in range(count):\n",
    "                dummy = p[g-j]+\" \"+dummy   #i,i-1,i-2,i-3,i-4,i-5,...,i-(n-1)\n",
    "               #more things to be added here\n",
    "            dummy = re.sub(r\"^\\s|\\s$\",\"\",dummy)\n",
    "            n_gram.append(dummy)\n",
    "    return (n_gram)    \n",
    "\n",
    "    "
   ]
  },
  {
   "cell_type": "code",
   "execution_count": 134,
   "metadata": {
    "collapsed": true
   },
   "outputs": [],
   "source": [
    "def CountNgram(frequency):\n",
    "    count ={}\n",
    "    \n",
    "    for (key,fvalue) in reversed(sorted(frequency.items(), key = itemgetter(1))):\n",
    "        count[key] = fvalue\n",
    " \n",
    "    return count"
   ]
  },
  {
   "cell_type": "code",
   "execution_count": 135,
   "metadata": {
    "collapsed": true
   },
   "outputs": [],
   "source": [
    "#unified method for MLE of n-gram\n",
    "def MLE(a,b,N):  #n is N of n-gram\n",
    "    if N ==1:#unigram\n",
    "        return (count_unigram[a]/len(unigramLst))\n",
    "    elif N==2:#bigram\n",
    "        return (count_bigram[b+\" \"+a]/count_unigram[b])\n",
    "    elif N == 3:#triram\n",
    "        return (count_trigram[b+\" \"+a]/count_bigram[b])\n",
    "    elif N == 4:\n",
    "        return (count_quadgram[b+\" \"+a]/count_trigram[b])"
   ]
  },
  {
   "cell_type": "code",
   "execution_count": 136,
   "metadata": {
    "collapsed": true
   },
   "outputs": [],
   "source": [
    "#question 5\n",
    "def add_1_prob(a,b):#specificaly for bigrams\n",
    "    try:\n",
    "        numerator = count_bigram[b+\" \"+a] + 1\n",
    "    except :\n",
    "        numerator = 1\n",
    "    try:   \n",
    "        denominator = count_unigram[b] + len(count_unigram) #count_unigram is count of unigram(types in corpus)\n",
    "    except :\n",
    "        denominator = len(count_unigram)\n",
    "    return (numerator/denominator)\n",
    "#assure once that it is len(count_bigam)"
   ]
  },
  {
   "cell_type": "code",
   "execution_count": 137,
   "metadata": {
    "collapsed": true
   },
   "outputs": [],
   "source": [
    "def get_NLst(count_dict):#pass dicationary of word vs count.\n",
    "    #create counting list for \n",
    "    l = count_dict \n",
    "    l=list(l.values())\n",
    "    l.sort()\n",
    "    #we want a dictionary with {1:1,2:1,3:2,4:3,5:1}\n",
    "    d={}\n",
    "    for i in range(len(l)):\n",
    "        count =1\n",
    "        for j in range(i,0,-1):\n",
    "            if l[i] == l[j-1]:\n",
    "                count = count + 1\n",
    "            else:\n",
    "                break \n",
    "    \n",
    "        d[l[i]] = count\n",
    "    return (d)\n",
    "#takes O(n^2) which takes lot of time to execute.\n",
    "    "
   ]
  },
  {
   "cell_type": "code",
   "execution_count": 164,
   "metadata": {
    "collapsed": true
   },
   "outputs": [],
   "source": [
    "class goodTurning:\n",
    "    def __init__(self,count): \n",
    "        self.countNgram = count\n",
    "        self.dictN = get_NLst(self.countNgram)\n",
    "        self.keys = list(dictN.keys())\n",
    "        self.values = list(dictN.values())\n",
    "        self.NewCount()\n",
    "    def NewCount(self):\n",
    "        self.newCount=self.countNgram.copy()\n",
    "        \n",
    "        for i in self.newCount.keys():\n",
    "            try:\n",
    "                self.newCount[i] = (self.newCount[i]+1)*(self.dictN[self.newCount[i]+1]/self.dictN[self.newCount[i]])\n",
    "            except:\n",
    "                intr= np.interp(float(self.newCount[i]),[float(j) for j in self.keys],[float(k) for k in self.values])\n",
    "                #intr= np.interp(l[i]+1,keys,values)\n",
    "\n",
    "                self.newCount[i] = (self.newCount[i]+1)*(intr/(self.dictN[self.newCount[i]]))\n",
    "            #new for the word with zero count \n",
    "\n",
    "        return self.newCount \n",
    "    def smoothProb(self,a,token): \n",
    "        #token : total number of token of n-gram \n",
    "    \n",
    "        if  a not in self.countNgram.keys():\n",
    "            return (dictN[1]/len(token)) #count of 1 divided by total ngrams in the corpus\n",
    "        \n",
    "        else:\n",
    "            return (self.NewCount()[a]/len(token))\n",
    "#look over interpolation function\n",
    "#for Nc >Nc+1 it is too jumpy\n",
    "        "
   ]
  },
  {
   "cell_type": "code",
   "execution_count": 139,
   "metadata": {
    "collapsed": true
   },
   "outputs": [],
   "source": [
    "\n",
    "token = textProc('SherlockHomes.txt')\n",
    "\n",
    "\n",
    "train = token[:int(len(token)*0.8)]#80%\n",
    "validation = token[int(len(token)*0.8):]#20%\n",
    "#print (token)\n"
   ]
  },
  {
   "cell_type": "code",
   "execution_count": 140,
   "metadata": {
    "collapsed": true
   },
   "outputs": [],
   "source": [
    "unigrams = []\n",
    "for i in train:#token is token of sentence.\n",
    "    p=word_tokenize(i)\n",
    "    p = [\"<s>\"]+p\n",
    "    p.append(\"</s>\")\n",
    "    unigrams+=p\n",
    "#HOW TO GET RIDGE OF THIS \n",
    "#print (unigrams)\n",
    "#MLE of unigram\n",
    "#frequency of occurence divided by total number of tokens\n",
    "dict_freq = nltk.FreqDist(unigrams)\n",
    "MLE_unigram = uniP(dict_freq)\n",
    "\n",
    "#print (MLE_unigram)\n"
   ]
  },
  {
   "cell_type": "code",
   "execution_count": 141,
   "metadata": {
    "collapsed": true
   },
   "outputs": [
    {
     "name": "stdout",
     "output_type": "stream",
     "text": [
      "{'</s>': 5443, '<s>': 5443, 'the': 4472, 'i': 2446, 'and': 2396, 'to': 2238, 'a': 2115, 'of': 2075, 'in': 1392, 'that': 1380, 'it': 1359, 'he': 1179, 'you': 1167, 'was': 1151, 'his': 913, 'is': 876, 'my': 800, 'have': 747, 'as': 684, 'with': 660, 'had': 638, 'at': 619, 'which': 610, 'for': 588, 'not': 535, 'but': 518, 'me': 510, 'be': 497, 'we': 443, 'this': 417, 'said': 396, 'there': 391, 'from': 372, 'holmes': 366, 'upon': 363, 'him': 360, 'so': 356, 'her': 329, 'she': 327, 'all': 322, 'very': 322, 'been': 314, 'on': 311, 'your': 309, 'no': 305, 'what': 302, 'one': 299, 'then': 294, 's': 294, 'were': 285, 'by': 277, 'are': 267, 'would': 264, 'when': 263, 'out': 260, 'an': 260, 'man': 253, 'up': 246, 'do': 235, 'mr': 222, 'has': 219, 'little': 219, 'could': 217, 'who': 215, 'into': 214, 'will': 210, 'if': 206, 'some': 197, 'now': 187, 'see': 182, 'down': 178, 'should': 174, 'our': 172, 'can': 171, 'they': 165, 'well': 164, 'may': 161, 'or': 156, 'us': 146, 'over': 143, 'think': 140, 'about': 140, 'before': 138, 'more': 136, 'know': 135, 'room': 135, 'am': 135, 'shall': 134, 'must': 130, 'come': 129, 'only': 127, 'them': 127, 'than': 124, 'two': 121, 'good': 121, 'here': 120, 'time': 120, 'came': 119, 'did': 119, 'back': 118, 'door': 116, 'other': 115, 'how': 112, 'any': 102, 'face': 101, 'might': 101, 'night': 100, 'yes': 100, 'house': 100, 'where': 99, 'just': 99, 'much': 98, 'hand': 97, 'matter': 96, 'day': 93, 'way': 93, 'case': 90, 'heard': 89, 'morning': 88, 'made': 85, 'away': 85, 'never': 83, 't': 83, 'nothing': 83, 'such': 83, 'found': 83, 'their': 82, 'however': 82, 'after': 81, 'quite': 80, 'go': 80, 'eyes': 79, 'last': 78, 'left': 76, 'own': 75, 'like': 75, 'right': 74, 'tell': 74, 'took': 73, 'say': 73, 'long': 73, 'once': 73, 'its': 73, 'oh': 73, 'through': 72, 'sherlock': 72, 'most': 72, 'miss': 72, 'asked': 71, 'saw': 70, 'first': 69, 'side': 69, 'father': 68, 'yet': 68, 'too': 67, 'sir': 67, 'find': 67, 'young': 65, 'watson': 65, 'street': 64, 'these': 63, 'hands': 63, 'friend': 63, 'off': 63, 'went': 62, 'lady': 62, 'st': 62, 'round': 62, 'small': 61, 'himself': 61, 'take': 61, 'ever': 61, 'myself': 61, 'business': 60, 'three': 60, 'light': 60, 'every': 60, 'look': 60, 'done': 60, 'something': 59, 'cried': 59, 'thought': 59, 'until': 59, 'seen': 59, 'still': 59, 'without': 58, 'old': 58, 'put': 58, 'head': 57, 'again': 57, 'let': 56, 'why': 56, 'while': 55, 'few': 55, 'those': 55, 'even': 55, 'seemed': 54, 'rather': 54, 'make': 54, 'woman': 53, 'chair': 52, 'get': 52, 'indeed': 52, 'having': 52, 'perhaps': 51, 'though': 50, 'years': 50, 'doubt': 50, 'name': 50, 'mind': 49, 'dear': 48, 'enough': 48, 'half': 47, 'window': 47, 'remarked': 47, 'wife': 47, 'same': 45, 'end': 45, 'open': 45, 'also': 45, 'course': 45, 'red': 44, 'got': 44, 'anything': 44, 'front': 44, 'table': 44, 'against': 44, 'work': 43, 'always': 43, 'far': 43, 'place': 43, 'give': 43, 'police': 43, 'knew': 42, 'sat': 42, 'turned': 42, 'between': 42, 'looked': 41, 'better': 41, 'home': 41, 'answered': 40, 'told': 40, 'looking': 40, 'really': 40, 'hardly': 40, 'behind': 40, 'call': 40, 'understand': 40, 'black': 39, 'whole': 39, 'thing': 39, 'wish': 39, 'son': 39, 'point': 38, 'gentleman': 38, 'large': 38, 'being': 38, 'certainly': 38, 'mrs': 38, 'leave': 38, 'possible': 38, 'bed': 37, 'hair': 37, 'strange': 37, 'paper': 37, 'hat': 37, 'gave': 37, 'brought': 37, 'set': 37, 'within': 37, 'already': 37, 'great': 37, 'met': 36, 'fire': 36, 'both': 36, 'clear': 36, 'whether': 36, 'suddenly': 35, 'word': 35, 'minutes': 35, 'help': 35, 'words': 35, 'yourself': 34, 'papers': 34, 'pray': 34, 'five': 34, 'men': 34, 'many': 34, 'dark': 34, 'ask': 34, 'life': 34, 'days': 33, 'under': 33, 'soon': 33, 'lord': 33, 'another': 33, 'country': 32, 'baker': 32, 'note': 32, 'rucastle': 32, 'pounds': 32, 'london': 32, 'passed': 32, 'evening': 32, 'gone': 32, 'money': 31, 'mccarthy': 31, 'simon': 31, 'least': 31, 'returned': 31, 'believe': 31, 'waiting': 30, 'doctor': 30, 'read': 30, 'companion': 30, 'does': 30, 'part': 30, 'interest': 29, 'since': 29, 'sure': 29, 'lestrade': 29, 'opened': 29, 'lay': 29, 'whom': 29, 'moment': 29, 'less': 29, 'strong': 29, 'use': 28, 'four': 28, 'hour': 28, 'across': 28, 'able': 28, 'corner': 28, 'sitting': 28, 'either': 28, 'best': 27, 'facts': 27, 'near': 27, 'fellow': 27, 'll': 27, 'among': 27, 'things': 27, 'singular': 27, 'felt': 27, 'question': 27, 'don': 26, 'stood': 26, 'together': 26, 'ah': 26, 'became': 26, 'given': 26, 'client': 26, 'new': 26, 'keep': 25, 'sister': 25, 'hard': 25, 'save': 25, 'known': 25, 'during': 25, 'stone': 25, 'letter': 25, 'used': 25, 'clock': 25, 'rooms': 25, 'threw': 24, 'inspector': 24, 'story': 24, 'crime': 24, 'death': 24, 'remember': 24, 'lost': 24, 'imagine': 24, 'station': 24, 'cry': 24, 'true': 24, 'o': 24, 'forward': 24, 'taken': 24, 'past': 24, 'office': 24, 'going': 24, 'instant': 24, 'road': 24, 'laid': 24, 'dress': 24, 'seven': 24, 'husband': 23, 'late': 23, 'people': 23, 'dr': 23, 'rushed': 23, 'fear': 23, 'obvious': 23, 'square': 23, 'each': 23, 'ready': 23, 'want': 23, 'hear': 23, 'drove': 23, 'god': 23, 'cut': 23, 'marriage': 23, 'week': 23, 'year': 23, 'feet': 23, 'sound': 23, 'else': 23, 'coming': 22, 'letters': 22, 'visitor': 22, 'none': 22, 'above': 22, 'photograph': 22, 'thank': 22, 'colonel': 22, 'address': 22, 'called': 22, 'present': 22, 'hope': 22, 'ten': 22, 'ran': 22, 'held': 22, 'step': 22, 'quick': 22, 'turn': 22, 'family': 22, 'entered': 22, 'sort': 22, 'manner': 22, 'seems': 22, 'mine': 22, 'absolutely': 21, 'silence': 21, 'spoke': 21, 'began': 21, 'wilson': 21, 'ago': 21, 'happened': 21, 'dressed': 21, 'heavy': 21, 'turner': 21, 'chance': 21, 'heart': 21, 'walked': 21, 'white': 21, 'whose': 21, 'lamp': 21, 'beside': 21, 'easy': 21, 'floor': 20, 'town': 20, 'eye': 20, 'cab': 20, 'secret': 20, 'second': 20, 'struck': 20, 'coat': 20, 'bird': 20, 'outside': 20, 'bell': 20, 'several': 20, 'six': 20, 'important': 20, 'appeared': 20, 'sprang': 20, 'passage': 20, 'standing': 20, 'twenty': 20, 'air': 20, 'started': 20, 'nature': 20, 'interesting': 19, 'cases': 19, 'windows': 19, 'laughed': 19, 'john': 19, 'fact': 19, 'coronet': 19, 'girl': 19, 'followed': 19, 'maid': 19, 'child': 19, 'position': 19, 'glanced': 19, 'fashion': 19, 'glancing': 19, 'quietly': 19, 'daughter': 19, 'talk': 19, 'train': 19, 'poor': 19, 'holder': 19, 'alone': 19, 'clair': 19, 'mary': 19, 'public': 18, 'angel': 18, 'anyone': 18, 'clothes': 18, 'married': 18, 'breakfast': 18, 'speak': 18, 'order': 18, 'deep': 18, 'placed': 18, 'ground': 18, 'goose': 18, 'grey': 18, 'quiet': 18, 'drawn': 18, 'company': 18, 'attention': 18, 'headed': 18, 'pocket': 18, 'safe': 18, 'hosmer': 18, 'doing': 18, 'carriage': 18, 'carried': 18, 'hunter': 18, 'earth': 18, 'character': 18, 'problem': 18, 'blue': 18, 'hours': 18, 'frank': 18, 'because': 18, 'finger': 17, 'simple': 17, 'mystery': 17, 'figure': 17, 'showed': 17, 'roylott': 17, 'closed': 17, 'rose': 17, 'bright': 17, 'king': 17, 'idea': 17, 'kind': 17, 'next': 17, 'mean': 17, 'nor': 17, 'feeling': 17, 'line': 17, 'peculiar': 17, 'wedding': 17, 'person': 17, 'drive': 17, 'shown': 17, 'boy': 17, 'wait': 17, 'hurried': 17, 'fresh': 17, 'city': 17, 'caught': 17, 'k': 17, 'ourselves': 17, 'mother': 16, 'points': 16, 'slowly': 16, 'lane': 16, 'news': 16, 'hundred': 16, 'england': 16, 'lodge': 16, 'advertisement': 16, 'body': 16, 'locked': 16, 'single': 16, 'reason': 16, 'colour': 16, 'cause': 16, 'box': 16, 'high': 16, 'silent': 16, 'won': 16, 'short': 16, 'glad': 16, 'itself': 16, 'observed': 16, 'kindly': 16, 'pay': 16, 'seeing': 16, 'danger': 16, 'entirely': 15, 'seem': 15, 'afraid': 15, 'foot': 15, 'instantly': 15, 'effect': 15, 'stepfather': 15, 'love': 15, 'events': 15, 'sent': 15, 'garden': 15, 'double': 15, 'mad': 15, 'weeks': 15, 'drew': 15, 'arthur': 15, 'times': 15, 'geese': 15, 'laughing': 15, 'details': 15, 'sight': 15, 'dressing': 15, 'means': 15, 'ring': 15, 'close': 15, 'twice': 15, 'neither': 15, 'led': 15, 'almost': 15, 'morrow': 15, 'likely': 15, 'everything': 15, 'appears': 15, 'yours': 15, 'cold': 15, 'engaged': 15, 'bring': 15, 'whispered': 15, 'making': 15, 'considerable': 15, 'innocent': 15, 'evidence': 15, 'uncle': 15, 'voice': 14, 'steps': 14, 'others': 14, 'coroner': 14, 'lock': 14, 'arms': 14, 'remained': 14, 'yard': 14, 'envelope': 14, 'thirty': 14, 'darkness': 14, 'remarkable': 14, 'change': 14, 'dead': 14, 'sit': 14, 'opinion': 14, 'third': 14, 'world': 14, 'direction': 14, 'along': 14, 'sharp': 14, 'german': 14, 'sign': 14, 'openshaw': 14, 'lips': 14, 'miles': 14, 'reached': 14, 'written': 14, 'thin': 14, 'adventure': 14, 'need': 14, 'afterwards': 14, 'account': 14, 'claim': 14, 'comes': 14, 'surprised': 14, 'matters': 13, 'chamber': 13, 'show': 13, 'tried': 13, 'centre': 13, 'deduce': 13, 'turning': 13, 'dreadful': 13, 'experience': 13, 'gold': 13, 'pipe': 13, 'private': 13, 'return': 13, 'bedroom': 13, 'glass': 13, 'pale': 13, 'waited': 13, 'assistant': 13, 'key': 13, 'care': 13, 'broke': 13, 'listened': 13, 'shook': 13, 'band': 13, 'impression': 13, 'wrong': 13, 'machine': 13, 'neville': 13, 'water': 13, 'meet': 13, 'arrived': 13, 've': 13, 'didn': 13, 'deal': 13, 'pool': 13, 'yellow': 13, 'lit': 13, 'later': 13, 'stoner': 13, 'full': 13, 'rest': 13, 'received': 13, 'surprise': 13, 'continued': 13, 'extraordinary': 13, 'confess': 13, 'suppose': 13, 'james': 12, 'examined': 12, 'witness': 12, 'noble': 12, 'ventilator': 12, 'middle': 12, 'windibank': 12, 'majesty': 12, 'excuse': 12, 'died': 12, 'eight': 12, 'evidently': 12, 'feel': 12, 'fancy': 12, 'honour': 12, 'certain': 12, 'determined': 12, 'pulled': 12, 'master': 12, 'real': 12, 'broad': 12, 'occurred': 12, 'brown': 12, 'friends': 12, 'ha': 12, 'clay': 12, 'clearly': 12, 'towards': 12, 'alice': 12, 'common': 12, 'happy': 12, 'appearance': 12, 'shoulders': 12, 'hall': 12, 'horrible': 12, 'reading': 12, 'says': 12, 'houses': 12, 'promise': 12, 'cleared': 12, 'low': 12, 'pushed': 12, 'draw': 12, 'ryder': 12, 'sheet': 12, 'explain': 12, 'smiling': 12, 'afternoon': 12, 'object': 12, 'finally': 12, 'thumb': 12, 'observe': 12, 'boots': 12, 'league': 12, 'monday': 12, 'frightened': 12, 'hatherley': 12, 'difficult': 12, 'probably': 12, 'trap': 12, 'force': 12, 'scene': 12, 'therefore': 12, 'someone': 12, 'answer': 12, 'whatever': 11, 'state': 11, 'formed': 11, 'wood': 11, 'example': 11, 'practice': 11, 'george': 11, 'importance': 11, 'inquiry': 11, 'faced': 11, 'throw': 11, 'boscombe': 11, 'lying': 11, 'irene': 11, 'missing': 11, 'madam': 11, 'armchair': 11, 'yesterday': 11, 'spoken': 11, 'absolute': 11, 'gems': 11, 'send': 11, 'stairs': 11, 'weary': 11, 'toller': 11, 'number': 11, 'doran': 11, 'features': 11, 'slipped': 11, 'dropped': 11, 'early': 11, 'law': 11, 'piece': 11, 'clue': 11, 'lascar': 11, 'slight': 11, 'usual': 11, 'result': 11, 'sudden': 11, 'wrote': 11, 'amid': 11, 'shining': 11, 'curious': 11, 'professional': 11, 'broken': 11, 'lived': 11, 'kept': 11, 'expected': 11, 'cellar': 11, 'walking': 11, 'bad': 11, 'wooden': 11, 'cigar': 11, 'court': 11, 'thick': 11, 'grew': 11, 'live': 11, 'fixed': 11, 'caused': 11, 'horner': 11, 'church': 11, 'jones': 11, 'walk': 11, 'bank': 11, 'keen': 11, 'fell': 11, 'running': 11, 'serious': 11, 'sum': 11, 'self': 11, 'excellent': 11, 'lad': 11, 'ordered': 10, 'trust': 10, 'hotel': 10, 'further': 10, 'age': 10, 'visit': 10, 'alive': 10, 'wall': 10, 'view': 10, 'inside': 10, 'seat': 10, 'adler': 10, 'huge': 10, 'cheeks': 10, 'unless': 10, 'chain': 10, 'swiftly': 10, 'reach': 10, 'scotland': 10, 'action': 10, 'fifty': 10, 'dog': 10, 'fortune': 10, 'book': 10, 'thrust': 10, 'often': 10, 'herself': 10, 'carry': 10, 'sutherland': 10, 'opening': 10, 'wanted': 10, 'pair': 10, 'glance': 10, 'questioning': 10, 'value': 10, 'search': 10, 'west': 10, 'run': 10, 'nearly': 10, 'narrative': 10, 'terrible': 10, 'ill': 10, 'den': 10, 'charge': 10, 'power': 10, 'lens': 10, 'precisely': 10, 'months': 10, 'sake': 10, 'ross': 10, 'iron': 10, 'raise': 10, 'edge': 10, 'trouble': 10, 'presence': 10, 'break': 10, 'plain': 10, 'solved': 10, 'remark': 10, 'society': 10, 'situation': 10, 'statement': 10, 'advice': 10, 'shoulder': 10, 'conversation': 9, 'goodness': 9, 'pen': 9, 'picked': 9, 'managed': 9, 'pointed': 9, 'write': 9, 'learned': 9, 'jabez': 9, 'beyond': 9, 'taking': 9, 'occasionally': 9, 'connection': 9, 'wrist': 9, 'subject': 9, 'firm': 9, 'methods': 9, 'precious': 9, 'shot': 9, 'writing': 9, 'streets': 9, 'quarter': 9, 'memory': 9, 'aware': 9, 'results': 9, 'unfortunate': 9, 'coloured': 9, 'park': 9, 'keeper': 9, 'pass': 9, 'data': 9, 'contrary': 9, 'salesman': 9, 'd': 9, 'smoke': 9, 'briony': 9, 'sleep': 9, 'shadow': 9, 'exceedingly': 9, 'column': 9, 'recovered': 9, 'fine': 9, 'acquaintance': 9, 'strength': 9, 'probable': 9, 'drawing': 9, 'bent': 9, 'traces': 9, 'snow': 9, 'marked': 9, 'land': 9, 'shaking': 9, 'beeches': 9, 'copper': 9, 'official': 9, 'path': 9, 'lip': 9, 'presume': 9, 'besides': 9, 'bradstreet': 9, 'creature': 9, 'purpose': 9, 'nine': 9, 'hydraulic': 9, 'easily': 9, 'covered': 9, 'eyford': 9, 'grounds': 9, 'banker': 9, 'putting': 9, 'wished': 9, 'affair': 9, 'handed': 9, 'sinister': 9, 'passing': 9, 'hot': 9, 'shutters': 9, 'knowledge': 9, 'merely': 9, 'suit': 9, 'sorry': 9, 'horror': 9, 'investigation': 9, 'watch': 9, 'post': 9, 'pa': 9, 'lawn': 9, 'duty': 9, 'horse': 9, 'signs': 9, 'wear': 9, 'marks': 9, 'soul': 9, 'incident': 9, 'tide': 8, 'gained': 8, 'page': 8, 'exactly': 8, 'touch': 8, 'start': 8, 'blow': 8, 'evil': 8, 'cross': 8, 'alarm': 8, 'ship': 8, 'beneath': 8, 'stand': 8, 'horsham': 8, 'moran': 8, 'keenly': 8, 'prove': 8, 'continue': 8, 'although': 8, 'sunk': 8, 'carefully': 8, 'different': 8, 'affairs': 8, 'tall': 8, 'lead': 8, 'vanished': 8, 'following': 8, 'truth': 8, 'hurry': 8, 'form': 8, 'anger': 8, 'catch': 8, 'perfectly': 8, 'books': 8, 'finished': 8, 'america': 8, 'conclusions': 8, 'rich': 8, 'learn': 8, 'game': 8, 'fastened': 8, 'press': 8, 'natural': 8, 'angry': 8, 'dying': 8, 'worth': 8, 'chin': 8, 'devil': 8, 'discovered': 8, 'bureau': 8, 'returning': 8, 'twisted': 8, 'impossible': 8, 'christmas': 8, 'date': 8, 'sometimes': 8, 'mark': 8, 'fly': 8, 'ceiling': 8, 'beautiful': 8, 'stretched': 8, 'wonder': 8, 'peterson': 8, 'pistol': 8, 'shortly': 8, 'farther': 8, 'unusual': 8, 'conduct': 8, 'sofa': 8, 'top': 8, 'saved': 8, 'coburg': 8, 'upstairs': 8, 'disappeared': 8, 'ceased': 8, 'medical': 8, 'attempt': 8, 'heads': 8, 'arrested': 8, 'scandal': 8, 'astonishment': 8, 'breaking': 8, 'bohemia': 8, 'coffee': 8, 'interested': 8, 'trying': 8, 'henry': 8, 'extreme': 8, 'suggested': 8, 'circle': 8, 'opium': 8, 'bridge': 8, 'waterloo': 8, 'dozen': 8, 'pretty': 8, 'success': 8, 'leaving': 8, 'rising': 8, 'fingers': 8, 'weapon': 8, 'english': 8, 'longer': 8, 'couple': 8, 'violence': 8, 'follow': 8, 'estate': 8, 'strike': 8, 'arm': 8, 'trees': 8, 'grass': 8, 'narrow': 8, 'heavily': 8, 'building': 8, 'pity': 8, 'throwing': 8, 'paid': 8, 'merryweather': 8, 'possibly': 8, 'fortunate': 8, 'wind': 8, 'beg': 8, 'fall': 8, 'worn': 8, 'expression': 8, 'hum': 8, 'secure': 8, 'ears': 8, 'neighbourhood': 8, 'ear': 8, 'vague': 8, 'proof': 8, 'blood': 8, 'revolver': 7, 'distance': 7, 'concerned': 7, 'naturally': 7, 'gas': 7, 'spent': 7, 'stop': 7, 'influence': 7, 'assistance': 7, 'examination': 7, 'raised': 7, 'series': 7, 'assure': 7, 'future': 7, 'consult': 7, 'curiosity': 7, 'clean': 7, 'circumstances': 7, 'general': 7, 'lantern': 7, 'stay': 7, 'star': 7, 'habit': 7, 'owe': 7, 'settle': 7, 'immense': 7, 'cloth': 7, 'rat': 7, 'reference': 7, 'habits': 7, 'expect': 7, 'shrugged': 7, 'knees': 7, 'bridegroom': 7, 'study': 7, 'frequently': 7, 'bride': 7, 'mouth': 7, 'hung': 7, 'yards': 7, 'american': 7, 'knows': 7, 'metal': 7, 'drop': 7, 'saying': 7, 'pips': 7, 'lie': 7, 'breckinridge': 7, 'straight': 7, 'missed': 7, 'patient': 7, 'fate': 7, 'trace': 7, 'ruin': 7, 'orange': 7, 'upper': 7, 'fallen': 7, 'nervous': 7, 'favour': 7, 'difficulty': 7, 'ink': 7, 'thoroughly': 7, 'presented': 7, 'pull': 7, 'notes': 7, 'sense': 7, 'whistle': 7, 'bag': 7, 'empty': 7, 'gipsies': 7, 'ways': 7, 'mere': 7, 'marry': 7, 'talking': 7, 'reasoning': 7, 'finding': 7, 'detective': 7, 'injured': 7, 'human': 7, 'handkerchief': 7, 'seized': 7, 'wild': 7, 'suggestive': 7, 'leaning': 7, 'theories': 7, 'profession': 7, 'limbs': 7, 'bowed': 7, 'please': 7, 'plainly': 7, 'lies': 7, 'shouted': 7, 'somewhere': 7, 'free': 7, 'nose': 7, 'play': 7, 'bearing': 7, 'clad': 7, 'bar': 7, 'spaulding': 7, 'veil': 7, 'sun': 7, 'cloak': 7, 'gather': 7, 'surely': 7, 'allowed': 7, 'pavement': 7, 'village': 7, 'tinted': 7, 'wore': 7, 'countess': 7, 'solution': 7, 'disappearance': 7, 'boone': 7, 'journey': 7, 'household': 7, 'reward': 7, 'busy': 7, 'intention': 7, 'trivial': 7, 'agent': 7, 'criminal': 7, 'perfect': 7, 'furniture': 7, 'norton': 7, '1000': 7, 'stair': 7, 'signal': 7, 'eleven': 7, 'corridor': 7, 'ladies': 7, 'startled': 7, 'neck': 7, 'gently': 7, 'breath': 7, 'thrown': 6, 'equally': 6, 'earn': 6, 'bound': 6, 'loss': 6, 'fields': 6, 'careful': 6, 'dimly': 6, 'practical': 6, 'gives': 6, 'smell': 6, 'fairly': 6, 'hold': 6, 'weather': 6, 'feared': 6, 'immediately': 6, 'cup': 6, 'obliged': 6, 'dangerous': 6, 'consideration': 6, 'thinking': 6, 'mistaken': 6, 'pockets': 6, 'field': 6, 'property': 6, 'become': 6, 'conclusion': 6, 'twelve': 6, 'larger': 6, 'jewel': 6, 'assizes': 6, 'living': 6, 'flora': 6, 'makes': 6, 'sufficient': 6, 'forced': 6, 'heartily': 6, 'gazing': 6, 'formidable': 6, 'advise': 6, 'retained': 6, 'grizzled': 6, 'examining': 6, 'weight': 6, 'states': 6, 'furnished': 6, 'duties': 6, 'jacket': 6, 'cap': 6, 'desire': 6, 'complete': 6, 'sympathy': 6, 'suspicion': 6, 'eventually': 6, 'cooee': 6, 'cheetah': 6, 'stoke': 6, 'stepped': 6, 'lunch': 6, 'burnwell': 6, 'gang': 6, 'clever': 6, 'clearing': 6, 'market': 6, 'stark': 6, 'major': 6, 'emerged': 6, 'whence': 6, 'bill': 6, 'shock': 6, 'walls': 6, 'rope': 6, 'pointing': 6, 'knowing': 6, 'stopped': 6, 'glimpse': 6, 'clergyman': 6, 'explained': 6, 'fantastic': 6, 'commonplace': 6, 'match': 6, 'quest': 6, 'women': 6, 'lines': 6, 'extremely': 6, 'dried': 6, 'waistcoat': 6, 'recent': 6, 'looks': 6, 'getting': 6, 'leaves': 6, 'greater': 6, 'spare': 6, 'retired': 6, 'particularly': 6, 'actually': 6, 'whitney': 6, 'deadly': 6, 'loudly': 6, 'calling': 6, 'fuller': 6, 'swandam': 6, 'roof': 6, 'drawer': 6, 'aid': 6, 'goes': 6, 'skill': 6, 'spirits': 6, 'theory': 6, 'test': 6, 'working': 6, 'nicely': 6, 'latter': 6, 'successful': 6, 'saturday': 6, 'gain': 6, 'south': 6, 'brixton': 6, 'fit': 6, 'duke': 6, 'oakshott': 6, 'bought': 6, 'amount': 6, 'notice': 6, 'description': 6, 'accustomed': 6, 'lately': 6, 'size': 6, 'buy': 6, 'warning': 6, 'seldom': 6, 'deeply': 6, 'pew': 6, 'crop': 6, 'frock': 6, 'saxe': 6, 'driving': 6, 'aside': 6, 'remain': 6, 'brandy': 6, 'forever': 6, 'stout': 6, 'north': 6, 'conveyed': 6, 'main': 6, 'stones': 6, 'delicate': 6, 'jury': 6, 'prevent': 6, 'inclined': 6, 'month': 6, 'c': 6, 'winchester': 6, 'correct': 6, 'murder': 6, 'indicated': 6, 'gravely': 6, 'spite': 6, 'rule': 6, 'terror': 6, 'leg': 6, 'definite': 6, 'examine': 6, 'knee': 6, 'county': 6, 'remains': 6, 'h': 6, 'lodgings': 6, 'older': 6, 'engineer': 6, 'inquiries': 6, 'villain': 6, 'consider': 6, 'explanation': 6, 'somewhat': 6, 'reply': 6, 'dashed': 6, 'barred': 6, 'wouldn': 6, 'gasped': 6, 'offices': 6, 'duncan': 6, 'apply': 6, 'lose': 6, 'massive': 6, 'refused': 6, 'wheels': 6, 'grief': 6, 'beauty': 6, 'stable': 6, 'prisoner': 6, '30': 6, 'gloom': 6, 'usually': 6, 'anxious': 6, 'jump': 6, 'becomes': 6, 'initials': 6, 'justice': 6, 'wound': 6, 'pressing': 6, 'convinced': 6, 'whiskers': 5, 'offered': 5, 'dust': 5, 'method': 5, 'guess': 5, 'dirty': 5, 'dragged': 5, 'traced': 5, 'metallic': 5, 'shrieked': 5, 'presently': 5, 'de': 5, 'price': 5, 'hence': 5, 'guard': 5, 'sell': 5, 'fainted': 5, 'fierce': 5, 'dull': 5, 'similar': 5, 'leadenhall': 5, 'changed': 5, 'undoubtedly': 5, 'disposition': 5, 'amiable': 5, 'shoes': 5, 'familiar': 5, 'servant': 5, 'crowd': 5, 'shelf': 5, 'green': 5, 'sad': 5, 'energy': 5, 'bundle': 5, 'peeped': 5, 'foresight': 5, 'breathing': 5, 'flight': 5, 'dream': 5, 'endeavouring': 5, 'problems': 5, 'rate': 5, 'travelled': 5, 'ones': 5, 'ballarat': 5, 'recall': 5, 'children': 5, 'referred': 5, 'doubts': 5, 'filled': 5, 'generally': 5, 'bottom': 5, 'ashamed': 5, 'solve': 5, 're': 5, 'cast': 5, 'onto': 5, 'pitch': 5, 'east': 5, 'spring': 5, 'lone': 5, 'pink': 5, 'club': 5, 'clouds': 5, 'rain': 5, 'noticed': 5, 'wishes': 5, 'deed': 5, 'compelled': 5, 'godfrey': 5, 'staring': 5, 'prompt': 5, 'folk': 5, 'buried': 5, 'averse': 5, 'rise': 5, 'apparently': 5, 'appointment': 5, 'heels': 5, 'big': 5, 'bristol': 5, 'grasp': 5, 'drug': 5, 'reasoner': 5, 'charming': 5, 'harm': 5, 'pain': 5, 'remembered': 5, 'gentlemen': 5, 'lysander': 5, 'promised': 5, 'apology': 5, 'violent': 5, 'sleeve': 5, 'thief': 5, 'peace': 5, 'proceed': 5, 'respectable': 5, 'lives': 5, 'prefer': 5, 'ordinary': 5, 'throat': 5, 'incidents': 5, 'tragedy': 5, 'beginning': 5, 'suggest': 5, 'passion': 5, 'cabman': 5, 'pawnbroker': 5, 'encyclopaedia': 5, 'removed': 5, 'art': 5, 'acted': 5, 'stoper': 5, 'shut': 5, 'laying': 5, 'depend': 5, 'instead': 5, 'expedition': 5, 'poison': 5, 'closing': 5, 'rattled': 5, 'downstairs': 5, 'midnight': 5, 'tips': 5, 'conceal': 5, 'thousand': 5, 'security': 5, 'allow': 5, 'telling': 5, '4': 5, 'inn': 5, 'beggar': 5, 'gown': 5, 'share': 5, 'river': 5, 'places': 5, 'backward': 5, 'begin': 5, 'heaven': 5, 'cocked': 5, 'chuckled': 5, 'agitation': 5, 'except': 5, 'fitted': 5, 'leather': 5, 'inner': 5, 'paced': 5, 'willing': 5, 'striking': 5, 'gazed': 5, 'nice': 5, 'march': 5, 'rolled': 5, 'golden': 5, 'manager': 5, 'carrying': 5, 'deserted': 5, 'crown': 5, 'mantelpiece': 5, 'meant': 5, 'necessary': 5, 'confidence': 5, 'minute': 5, 'china': 5, 'highest': 5, 'remove': 5, 'milk': 5, 'instance': 5, 'bye': 5, 'committed': 5, 'rid': 5, 'expense': 5, 'hanging': 5, 'cord': 5, 'worked': 5, 'capital': 5, 'enter': 5, 'watched': 5, 'pleasure': 5, 'remarks': 5, 'nerves': 5, 'closely': 5, 'task': 5, 'swinging': 5, 'dundee': 5, 'painful': 5, 'failed': 5, 'asking': 5, 'bachelor': 5, 'slip': 5, 'fat': 5, 'scoundrel': 5, 'ceremony': 5, 'possession': 5, 'staggered': 5, 'secrecy': 5, 'b': 5, 'tail': 5, 'vincent': 5, 'laugh': 5, 'easier': 5, 'occur': 5, 'act': 5, 'card': 5, 'printed': 5, 'paddington': 5, 'commission': 5, 'protruding': 5, 'weak': 5, 'stands': 5, 'stranger': 5, 'funny': 5, 'salary': 5, 'advance': 5, 'meaning': 5, 'names': 5, 'driven': 5, 'emotion': 5, 'completely': 5, 'settled': 5, 'tossed': 5, 'named': 5, 'lawyer': 5, 'cripple': 5, 'farm': 5, 'approached': 5, 'touched': 5, 'drink': 5, 'quarters': 5, 'pondicherry': 5, 'indian': 5, 'serpentine': 5, 'dim': 5, 'grasped': 5, 'woods': 5, 'servants': 5, 'describe': 5, 'endeavoured': 5, 'alpha': 5, 'sold': 5, 'questions': 5, 'victim': 5, 'heavens': 5, 'appear': 5, 'shade': 5, 'takes': 5, 'deeper': 4, 'l': 4, 'needed': 4, 'certainty': 4, 'records': 4, 'surgeon': 4, 'wire': 4, 'loose': 4, 'sallow': 4, 'ulster': 4, 'avenue': 4, 'savannah': 4, 'forget': 4, 'exposure': 4, 'supply': 4, 'swear': 4, 'completed': 4, 'flush': 4, 'brilliant': 4, 'intimate': 4, 'strongly': 4, 'accused': 4, 'articles': 4, 'contrast': 4, 'moving': 4, 'shake': 4, 'matches': 4, 'giving': 4, 'snake': 4, 'receive': 4, 'positive': 4, 'connected': 4, 'sank': 4, 'hudson': 4, 'solemnly': 4, 'misfortune': 4, 'miserable': 4, 'commissionaire': 4, 'forehead': 4, 'freely': 4, 'chemical': 4, 'pitiable': 4, 'lover': 4, 'interests': 4, 'novel': 4, 'promises': 4, 'legal': 4, 'feature': 4, 'doubtless': 4, 'showing': 4, 'grimesby': 4, 'jack': 4, 'otherwise': 4, 'keeping': 4, 'gentle': 4, 'fault': 4, 'gravesend': 4, 'health': 4, 'eager': 4, 'temple': 4, 'stated': 4, 'distinct': 4, 'accident': 4, 'labour': 4, 'member': 4, 'worse': 4, 'trousers': 4, 'refuse': 4, 'hurriedly': 4, 'tore': 4, 'forty': 4, 'utterly': 4, 'breast': 4, 'considerably': 4, 'tapping': 4, 'leatherhead': 4, 'legs': 4, 'served': 4, 'ball': 4, 'dignity': 4, 'parted': 4, 'joy': 4, 'fair': 4, 'stage': 4, 'sovereign': 4, 'animal': 4, 'neighbours': 4, 'deposit': 4, 'loves': 4, 'soft': 4, 'blunt': 4, 'blinds': 4, 'block': 4, 'plumber': 4, 'sounds': 4, 'mask': 4, 'millar': 4, 'landlord': 4, 'quickly': 4, 'contents': 4, 'detail': 4, 'scattered': 4, 'playing': 4, 'shone': 4, 'wondering': 4, 'safely': 4, 'brimmed': 4, 'exact': 4, 'discuss': 4, 'hurrying': 4, 'reported': 4, 'apartment': 4, 'altar': 4, 'readily': 4, 'fringe': 4, 'chase': 4, 'absence': 4, 'telegram': 4, 'rubbing': 4, 'flew': 4, 'continually': 4, 'vacancy': 4, 'event': 4, 'violet': 4, 'impressed': 4, 'swept': 4, 'bringing': 4, 'liberty': 4, 'nights': 4, 'quarrel': 4, 'occupation': 4, 'wants': 4, 'school': 4, 'communicate': 4, 'effort': 4, 'typewriting': 4, 'observation': 4, 'vile': 4, 'row': 4, 'europe': 4, 'energetic': 4, 'wing': 4, 'announced': 4, 'unique': 4, 'disappointment': 4, 'everyone': 4, 'shiny': 4, 'collar': 4, 'newly': 4, 'pile': 4, 'powers': 4, 'horses': 4, 'co': 4, 'interview': 4, 'tree': 4, 'deduction': 4, 'deceased': 4, 'yourselves': 4, 'lee': 4, 'borne': 4, 'hole': 4, 'bare': 4, 'hampshire': 4, 'trick': 4, 'lounging': 4, 'gun': 4, 'useful': 4, 'sole': 4, 'satisfaction': 4, 'india': 4, 'hypothesis': 4, 'approach': 4, 'twinkled': 4, 'palm': 4, 'maiden': 4, 'suspicious': 4, 'lids': 4, 'belief': 4, 'valley': 4, 'bricks': 4, 'groom': 4, 'watching': 4, 'wheeler': 4, 'wit': 4, 'folded': 4, 'puzzled': 4, 'commence': 4, 'beaten': 4, 'described': 4, 'boot': 4, 'elastic': 4, 'unnatural': 4, 'extended': 4, 'twist': 4, 'expensive': 4, 'william': 4, 'murmured': 4, 'essential': 4, 'direct': 4, 'signature': 4, 'ferguson': 4, 'kitchen': 4, 'asleep': 4, 'article': 4, 'desk': 4, 'stream': 4, 'wonderful': 4, 'unpleasant': 4, 'sweet': 4, 'seated': 4, 'runs': 4, 'vanish': 4, 'valuable': 4, 'fancies': 4, 'visible': 4, 'scar': 4, 'preserve': 4, 'shattered': 4, 'grip': 4, 'bonnet': 4, 'repeated': 4, 'greatest': 4, 'reaction': 4, 'pulling': 4, 'nodded': 4, 'threatened': 4, 'personally': 4, 'walks': 4, 'using': 4, 'forth': 4, 'burst': 4, 'war': 4, 'figures': 4, 'linen': 4, 'daring': 4, 'clutched': 4, 'distinctly': 4, 'seek': 4, 'lovely': 4, 'chest': 4, 'beautifully': 4, 'forefinger': 4, 'existence': 4, 'trained': 4, 'tracks': 4, 'process': 4, 'seriously': 4, 'terribly': 4, 'clapped': 4, 'aloysius': 4, 'balmoral': 4, 'robert': 4, 'personal': 4, 'tint': 4, 'lot': 4, 'subtle': 4, 'credit': 4, 'debts': 4, 'drunk': 4, 'possibility': 4, 'shape': 4, 'fee': 4, 'unknown': 4, 'paying': 4, 'slow': 4, 'unconscious': 4, 'bear': 4, 'unable': 4, 'elderly': 4, 'level': 4, 'streatham': 4, 'rush': 4, 'thinks': 4, 'hunting': 4, 'egg': 4, 'foul': 4, 'm': 4, 'agency': 4, 'rapidly': 4, 'boxes': 4, 'bulky': 4, 'cart': 4, 'deduced': 4, 'brightly': 4, 'jem': 4, 'ought': 4, 'policeman': 4, 'injuries': 4, 'observer': 4, 'information': 4, 'delicacy': 4, 'suicide': 4, 'mistake': 4, 'tangled': 4, 'gravel': 4, 'visited': 4, 'foolish': 4, 'treasure': 4, 'bohemian': 4, 'von': 4, 'mile': 4, 'allusion': 4, 'mysterious': 4, 'bizarre': 4, 'landlady': 4, 'deepest': 4, 'tied': 4, 'inquest': 4, 'rang': 4, 'advantage': 4, 'handsome': 4, 'glasses': 4, 'burned': 4, 'france': 4, 'occasion': 4, 'invent': 4, 'regretted': 4, 'aged': 4, 'listen': 4, 'custom': 4, 'fully': 4, 'guilt': 4, 'keys': 4, 'wrapped': 4, 'lining': 4, 'rushing': 4, 'driver': 4, 'hopes': 4, 'apiece': 4, 'doctors': 4, 'wander': 4, 'surrey': 4, 'angle': 4, 'starting': 4, 'particulars': 4, 'doors': 4, 'whitewashed': 4, 'winding': 4, 'blind': 4, 'link': 4, 'richer': 4, 'inconvenience': 4, 'companions': 4, 'spend': 4, 'postmark': 4, 'tobacco': 4, 'record': 4, 'robbery': 4, 'stolen': 4, 'lonely': 4, 'gate': 4, 'ended': 4, 'lined': 4, 'crossed': 4, 'puffing': 4, 'acting': 4, 'kate': 4, 'party': 4, 'brow': 4, 'snuff': 4, 'kindness': 4, 'chill': 4, 'sooner': 4, 'escape': 4, 'permission': 4, 'count': 4, 'premises': 4, 'colleague': 4, 'plans': 4, 'distinguish': 4, 'particular': 4, 'tale': 4, 'stock': 4, 'bred': 3, 'bedrooms': 3, 'victoria': 3, 'parents': 3, 'speedily': 3, 'penetrating': 3, 'entering': 3, 'increased': 3, 'list': 3, '3rd': 3, 'eastern': 3, 'picture': 3, 'roots': 3, 'solid': 3, 'attendant': 3, 'presumption': 3, 'wasn': 3, 'stare': 3, 'residence': 3, 'map': 3, 'cover': 3, 'discretion': 3, 'flattered': 3, 'gaze': 3, 'employer': 3, 'escaped': 3, 'brute': 3, 'informed': 3, 'candle': 3, 'tradesmen': 3, 'sundial': 3, 'training': 3, 'cream': 3, 'lime': 3, 'disguise': 3, 'proprietor': 3, 'confined': 3, 'carpet': 3, 'objection': 3, 'travel': 3, 'flying': 3, 'stains': 3, 'dad': 3, 'bone': 3, 'join': 3, 'backwater': 3, 'highroad': 3, 'shirt': 3, 'sized': 3, 'suite': 3, 'sorrow': 3, 'approaching': 3, 'criminals': 3, 'provided': 3, 'sideboard': 3, 'overpowering': 3, 'relatives': 3, 'mistress': 3, 'loved': 3, 'posted': 3, 'cigars': 3, 'birds': 3, 'cunning': 3, 'relations': 3, 'berkshire': 3, 'local': 3, 'warnings': 3, 'forgotten': 3, 'preposterous': 3, 'hearts': 3, 'writhed': 3, 'talked': 3, 'thus': 3, 'inquired': 3, 'director': 3, 'debt': 3, 'built': 3, 'enemy': 3, 'begging': 3, 'motive': 3, 'platform': 3, 'introspective': 3, 'tout': 3, 'crimes': 3, 'lower': 3, 'monotonous': 3, 'request': 3, 'chosen': 3, 'paint': 3, 'altogether': 3, 'drooping': 3, 'searching': 3, 'waved': 3, 'circumstantial': 3, 'shaven': 3, 'reserve': 3, 'landing': 3, 'friday': 3, 'deserved': 3, 'footing': 3, 'friendly': 3, 'tapped': 3, 'stepping': 3, 'sailing': 3, 'slippers': 3, 'considering': 3, 'roofs': 3, 'sleeping': 3, 'male': 3, 'opposite': 3, 'separate': 3, 'ladder': 3, 'inferences': 3, 'deductions': 3, 'evident': 3, 'pushing': 3, 'flashed': 3, 'gets': 3, 'brave': 3, 'previous': 3, 'smile': 3, 'proved': 3, 'strikes': 3, 'backed': 3, 'aristocratic': 3, 'alas': 3, 'searched': 3, 'custody': 3, 'stories': 3, 'mud': 3, 'carelessly': 3, 'obviously': 3, 'dinner': 3, 'retain': 3, 'cruelty': 3, 'observing': 3, 'slipping': 3, 'confession': 3, 'produce': 3, 'clerks': 3, 'themselves': 3, 'muttered': 3, 'stars': 3, 'waste': 3, 'pal': 3, 'utmost': 3, 'occasional': 3, 'tension': 3, 'fight': 3, 'isn': 3, 'overcoat': 3, 'belongs': 3, 'minutely': 3, 'services': 3, 'sides': 3, 'lounged': 3, 'grown': 3, 'instincts': 3, 'thousands': 3, 'troubled': 3, 'soothing': 3, 'worst': 3, 'louder': 3, 'railway': 3, 'tightly': 3, 'newspapers': 3, 'perplexity': 3, 'dramatic': 3, 'acute': 3, 'groaned': 3, 'realise': 3, 'precise': 3, 'scent': 3, 'risen': 3, 'albert': 3, 'invariably': 3, 'paused': 3, 'lid': 3, 'listening': 3, 'actions': 3, 'admirable': 3, 'trough': 3, 'younger': 3, 'baboon': 3, 'strolled': 3, 'aroused': 3, 'niece': 3, 'crushed': 3, 'huddled': 3, 'proceedings': 3, 'awakened': 3, 'january': 3, 'steel': 3, 'parts': 3, 'recognised': 3, 'highly': 3, 'chronicle': 3, 'move': 3, 'softly': 3, 'shillings': 3, 'metropolis': 3, 'hereditary': 3, 'shriek': 3, 'struggle': 3, 'dowry': 3, 'purposes': 3, 'conjectured': 3, 'nearer': 3, 'choked': 3, 'ominous': 3, 'feather': 3, 'rage': 3, 'monica': 3, 'purely': 3, 'keenest': 3, 'daily': 3, 'associated': 3, 'plantation': 3, 'g': 3, 'track': 3, 'knife': 3, 'curling': 3, 'central': 3, 'gathered': 3, 'vain': 3, 'wednesday': 3, 'loop': 3, 'lash': 3, 'tie': 3, 'coarse': 3, 'beat': 3, 'rare': 3, 'vigorously': 3, 'sponge': 3, 'gigantic': 3, 'impatiently': 3, 'pictures': 3, 'sums': 3, 'declared': 3, 'attempted': 3, 'admirably': 3, 'lights': 3, 'violin': 3, 'charged': 3, 'respect': 3, 'difficulties': 3, 'edges': 3, 'moist': 3, 'spot': 3, 'advertised': 3, 'shaken': 3, 'sky': 3, 'confederate': 3, 'moulton': 3, 'determine': 3, 'conditions': 3, 'wake': 3, 'analysis': 3, 'hideous': 3, 'bushes': 3, 'clump': 3, 'armitage': 3, 'tugged': 3, 'directed': 3, 'eat': 3, 'shag': 3, 'temper': 3, 'cane': 3, 'peering': 3, 'villa': 3, 'remarkably': 3, 'plate': 3, 'camp': 3, 'pooh': 3, 'wages': 3, '15': 3, 'uncontrollable': 3, 'civil': 3, 'smooth': 3, 'akin': 3, 'inspection': 3, 'helen': 3, 'fill': 3, 'raising': 3, 'interfere': 3, 'discovery': 3, 'torn': 3, 'glove': 3, 'bodies': 3, 'panel': 3, 'taste': 3, 'consciousness': 3, 'awful': 3, 'benefactor': 3, 'attend': 3, 'crowded': 3, 'saucer': 3, 'cat': 3, 'barmaid': 3, 'poker': 3, 'abstracted': 3, 'effects': 3, 'attempts': 3, 'holding': 3, 'leaned': 3, 'incisive': 3, 'florida': 3, 'compunction': 3, 'trembling': 3, 'motives': 3, 'board': 3, 'secretary': 3, 'hearing': 3, 'skin': 3, 'height': 3, 'hoped': 3, 'begun': 3, 'curled': 3, 'introduce': 3, 'moved': 3, 'disappointed': 3, 'morose': 3, 'rug': 3, 'landau': 3, 'operation': 3, 'sweetheart': 3, 'formerly': 3, 'neutral': 3, 'beard': 3, 'youth': 3, 'pacing': 3, 'comical': 3, 'forgot': 3, 'vanishing': 3, 'photography': 3, 'wonderfully': 3, 'elapsed': 3, 'hanged': 3, 'cruel': 3, 'brother': 3, 'advantages': 3, 'stained': 3, 'excited': 3, 'guineas': 3, 'california': 3, 'banking': 3, 'largest': 3, 'partner': 3, 'hollow': 3, 'suited': 3, 'tweed': 3, 'stricken': 3, 'stared': 3, 'harrow': 3, 'aunt': 3, 'hullo': 3, 'patience': 3, 'wired': 3, 'wet': 3, 'boards': 3, 'disreputable': 3, 'drunken': 3, 'moonshine': 3, 'pillow': 3, 'innocence': 3, 'pierced': 3, 'returns': 3, 'hurt': 3, 'fowler': 3, 'oak': 3, 'dummy': 3, 'former': 3, 'typewriter': 3, 'descending': 3, 'oxford': 3, 'unlocked': 3, 'tea': 3, 'volume': 3, 'coldly': 3, 'rights': 3, 'rely': 3, 'stump': 3, 'joke': 3, 'sneer': 3, 'e': 3, 'aperture': 3, 'employ': 3, 'crowder': 3, 'mentioned': 3, 'pipes': 3, 'glimmered': 3, 'brass': 3, 'ascended': 3, 'parallel': 3, 'treated': 3, 'crumpled': 3, 'bars': 3, 'blocked': 3, 'dated': 3, 'clang': 3, 'isa': 3, 'newspaper': 3, 'dock': 3, '2': 3, 'disease': 3, 'prison': 3, 'wasted': 3, 'try': 3, '11': 3, 'due': 3, 'sheets': 3, 'bow': 3, 'thoughts': 3, 'answering': 3, 'bless': 3, 'whoever': 3, 'check': 3, 'dazed': 3, 'fireplace': 3, 'cared': 3, 'rubbed': 3, 'bit': 3, 'cost': 3, 'efforts': 3, 'pains': 3, 'contraction': 3, 'system': 3, 'union': 3, 'scrawled': 3, 'exposed': 3, 'portion': 3, 'dense': 3, 'warm': 3, 'earnestly': 3, 'unnecessary': 3, 'visitors': 3, 'respects': 3, 'limp': 3, 'income': 3, 'ruefully': 3, 'coachman': 3, 'fowls': 3, 'orders': 3, 'purple': 3, 'heading': 3, 'rested': 3, 'royal': 3, 'rucastles': 3, 'terrified': 3, 'scream': 3, 'principal': 3, 'branch': 3, 'pick': 3, 'fourth': 3, 'united': 3, '6d': 3, 'accept': 3, 'wandering': 3, 'kilburn': 3, 'thieves': 3, 'responded': 3, 'gloves': 3, 'hansom': 3, 'flushed': 3, 'seconds': 3, 'baffled': 3, 'reasons': 3, 'ascertaining': 3, 'boat': 3, 'tap': 3, 'cruelly': 3, 'truly': 3, 'concealed': 3, 'hatty': 3, 'anxiety': 3, 'knock': 3, 'conviction': 3, 'bitter': 3, 'add': 3, 'attracted': 3, 'excitement': 3, 'resolution': 3, 'enormous': 3, 'murderous': 3, 'adventures': 3, 'hardened': 3, 'speech': 3, 'whipcord': 3, 'bouquet': 3, 'comfortable': 3, 'instinct': 3, 'eagerly': 3, 'gaiters': 3, 'costume': 3, 'brisk': 3, 'neatly': 3, 'signed': 3, 'judge': 3, 'inquire': 3, 'pride': 3, 'hastened': 3, 'recognise': 3, 'discover': 3, 'crisp': 3, 'absurd': 3, 'wide': 3, 'greeting': 3, 'smoking': 3, 'added': 3, 'warmly': 3, 'congratulate': 3, 'spark': 3, 'trifling': 3, 'rent': 3, 'avert': 3, 'control': 3, 'denied': 3, 'slept': 3, 'awake': 3, 'pledge': 3, 'springing': 3, 'meantime': 3, 'successive': 3, 'cupboard': 3, 'awkward': 3, 'damp': 3, 'faithfully': 3, 'destroyed': 3, 'service': 3, 'speckled': 3, 'laughter': 3, 'shows': 3, 'levers': 3, 'hit': 3, 'confessed': 3, 'refusal': 3, 'glare': 3, 'morcar': 3, 'wealth': 3, 'hugh': 3, 'constable': 3, 'identity': 3, 'french': 3, 'expenses': 3, 'pleasant': 3, 'gravity': 3, 'dates': 3, 'crack': 3, 'dissatisfied': 3, 'judgment': 3, 'unhappy': 3, 'rocket': 3, 'disturb': 3, 'revealed': 3, 'typewritten': 3, 'stalls': 3, 'discoloured': 3, 'silk': 3, 'jumped': 3, 'fare': 3, 'motion': 3, 'district': 3, 'recalled': 3, 'fool': 3, 'engagement': 3, 'sentence': 3, 'retire': 3, 'chairs': 3, 'special': 3, 'roads': 3, 'footmarks': 3, 'pope': 3, 'presumably': 3, 'capable': 3, 'lake': 3, 'reeds': 3, 'finds': 3, 'delight': 3, 'rattle': 3, 'slammed': 3, 'threshold': 3, 'despair': 3, '000': 3, 'windigate': 3, 'arranged': 3, 'frisco': 3, 'happen': 3, 'errand': 3, 'sombre': 3, 'guide': 3, 'supper': 3, 'dining': 3, 'occupant': 3, 'manage': 3, 'bore': 3, 'factor': 3, 'suburban': 3, 'creases': 3, 'teeth': 3, 'born': 3, 'assured': 3, 'perform': 3, 'cedars': 3, 'murdered': 3, 'guilty': 3, 'pursued': 3, 'hesitated': 3, 'sill': 3, 'fatal': 3, 'indoors': 3, 'electric': 3, 'joking': 3, 'believed': 3, 'convincing': 3, 'rubber': 3, 'mixed': 3, 'troubles': 3, 'knots': 2, 'pinch': 2, 'frenzy': 2, 'suffer': 2, 'push': 2, 'confirm': 2, 'compress': 2, 'handy': 2, 'earrings': 2, 'keeps': 2, 'gaped': 2, 'fiver': 2, 'advertising': 2, 'mccarthys': 2, 'impulse': 2, 'persistence': 2, 'uneasiness': 2, 'badly': 2, 'leads': 2, 'atlantic': 2, 'cards': 2, 'rough': 2, 'postpone': 2, 'insult': 2, 'fish': 2, 'swing': 2, 'minor': 2, 'coins': 2, 'reputation': 2, 'bushy': 2, 'sparkled': 2, 'resolve': 2, 'glimmer': 2, 'erect': 2, 'realised': 2, 'trampled': 2, 'etc': 2, 'lifted': 2, 'allowance': 2, 'serve': 2, 'insinuating': 2, 'fluttered': 2, 'shorter': 2, 'item': 2, 'education': 2, 'locket': 2, 'crib': 2, 'dank': 2, 'vault': 2, 'smelling': 2, 'province': 2, 'season': 2, 'ledger': 2, 'accounts': 2, 'fast': 2, 'noiseless': 2, 'est': 2, 'stronger': 2, 'employed': 2, 'fits': 2, 'exceptional': 2, 'imbecile': 2, 'australia': 2, 'tackle': 2, 'bosom': 2, 'recover': 2, 'twentieth': 2, 'hills': 2, 'prey': 2, 'fleshless': 2, 'history': 2, 'amiss': 2, 'gambler': 2, 'attached': 2, 'prank': 2, '5': 2, 'intervals': 2, 'rummaged': 2, 'inward': 2, 'wretched': 2, 'doubted': 2, 'misgivings': 2, 'upward': 2, 'transpired': 2, 'morocco': 2, 'wine': 2, 'sick': 2, 'treat': 2, 'pause': 2, 'strict': 2, 'wayside': 2, 'tired': 2, 'waiter': 2, 'yelled': 2, 'succeeded': 2, 'organisation': 2, 'conclusive': 2, 'drenched': 2, 'sensational': 2, 'depends': 2, 'arrest': 2, 'fiercely': 2, 'stall': 2, 'desperate': 2, 'sensationalism': 2, 'spread': 2, 'fund': 2, 'savage': 2, 'lest': 2, 'bewilderment': 2, 'sleepy': 2, 'skinned': 2, 'wronged': 2, 'sketch': 2, 'serves': 2, 'lengthened': 2, 'muzzle': 2, 'jerked': 2, 'ingenious': 2, 'aloud': 2, 'muttering': 2, 'investments': 2, 'famous': 2, 'tallow': 2, 'delighted': 2, 'mumbled': 2, 'basket': 2, 'helpless': 2, 'sleeper': 2, 'testament': 2, 'exacted': 2, 'vows': 2, 'improved': 2, 'snap': 2, 'moisture': 2, 'fluffy': 2, 'port': 2, 'unforeseen': 2, 'recently': 2, 'screaming': 2, 'bordered': 2, 'overtook': 2, 'researches': 2, 'sweating': 2, 'suits': 2, 'opposing': 2, 'trim': 2, 'honeymoon': 2, 'announcement': 2, 'curt': 2, 'screening': 2, 'mood': 2, 'patted': 2, 'tresses': 2, 'prices': 2, 'furiously': 2, 'screamed': 2, 'implore': 2, 'cell': 2, 'indulge': 2, 'flowing': 2, 'gradually': 2, 'widened': 2, 'succession': 2, 'endless': 2, 'ounce': 2, 'housekeeper': 2, 'repulsive': 2, 'inexplicable': 2, 'offended': 2, 'deadliest': 2, 'manual': 2, 'minds': 2, 'fairbank': 2, 'senseless': 2, 'chalk': 2, 'happens': 2, 'rattling': 2, 'slope': 2, 'stately': 2, 'wharf': 2, 'bark': 2, 'gathering': 2, 'duchess': 2, 'hanover': 2, 'southampton': 2, 'pillows': 2, 'ashen': 2, 'treble': 2, 'sob': 2, 'footsteps': 2, 'hearty': 2, 'burrowing': 2, 'remaining': 2, 'understood': 2, 'complaint': 2, 'indignation': 2, 'convenience': 2, 'whistled': 2, 'bones': 2, 'outstanding': 2, 'spotted': 2, 'esq': 2, 'affected': 2, 'bet': 2, 'hesitating': 2, 'unexpected': 2, 'correspondent': 2, 'cloud': 2, 'chimney': 2, 'armed': 2, 'sins': 2, 'holes': 2, 'cigarette': 2, 'symptoms': 2, 'deserts': 2, 'basin': 2, 'propose': 2, 'opportunity': 2, 'precaution': 2, 'gordon': 2, 'skirt': 2, 'meal': 2, 'rude': 2, 'error': 2, '117': 2, 'roared': 2, 'storm': 2, 'smart': 2, 'afford': 2, 'nerve': 2, 'disturbance': 2, 'waterproof': 2, 'uses': 2, 'defined': 2, 'branches': 2, 'southern': 2, 'ex': 2, 'instituted': 2, 'insisted': 2, 'briefly': 2, 'relative': 2, 'wicked': 2, 'deaths': 2, 'questionable': 2, 'trustees': 2, 'richest': 2, 'hurled': 2, 'produced': 2, 'resemblance': 2, 'murderer': 2, 'frankly': 2, 'admit': 2, 'condition': 2, 'devotedly': 2, 'vessel': 2, 'reaching': 2, 'enable': 2, 'cheery': 2, 'preventing': 2, 'terms': 2, 'jet': 2, 'knocked': 2, 'bradshaw': 2, 'merry': 2, 'decide': 2, 'revenge': 2, 'fur': 2, 'eyebrows': 2, 'grin': 2, 'according': 2, 'foresee': 2, 'staying': 2, 'stick': 2, 'below': 2, 'dry': 2, 'unfortunately': 2, 'logical': 2, 'surmise': 2, 'conjecture': 2, 'founded': 2, 'narratives': 2, '2s': 2, 'woodcock': 2, 'dreadfully': 2, 'mumbling': 2, 'jovial': 2, 'devoid': 2, 'speaking': 2, 'vulgar': 2, 'insist': 2, 'severe': 2, 'loving': 2, 'scenery': 2, 'admire': 2, 'border': 2, 'paragraph': 2, 'halfway': 2, 'punishment': 2, 'bedded': 2, 'toe': 2, 'simply': 2, 'stammered': 2, 'tax': 2, 'puzzle': 2, 'recommend': 2, 'fists': 2, 'roar': 2, 'gates': 2, 'advertise': 2, 'quarrelling': 2, 'extent': 2, 'warn': 2, 'regent': 2, 'traveller': 2, 'foreman': 2, 'hardy': 2, 'invisible': 2, 'investigations': 2, 'around': 2, 'confusion': 2, 'dealer': 2, 'higher': 2, 'footfall': 2, 'horsey': 2, 'venture': 2, 'invited': 2, 'spectacle': 2, 'piteous': 2, 'lap': 2, 'legged': 2, 'animated': 2, 'wearing': 2, 'suspicions': 2, 'shooting': 2, 'snatched': 2, 'genial': 2, 'enthusiastic': 2, 'horrify': 2, 'concluded': 2, 'strode': 2, 'snarled': 2, 'floating': 2, 'repute': 2, 'poured': 2, 'moonlight': 2, 'bloodstains': 2, 'enthusiasm': 2, 'lucky': 2, 'thanks': 2, 'r': 2, 'enemies': 2, 'active': 2, 'manners': 2, 'forbidding': 2, 'hush': 2, 'burgled': 2, 'moss': 2, 'beer': 2, 'persons': 2, 'epistle': 2, 'outer': 2, 'quarrels': 2, 'ay': 2, 'induce': 2, 'pack': 2, 'mostly': 2, 'uttered': 2, 'natured': 2, 'foreseen': 2, 'strain': 2, 'complain': 2, 'sobbed': 2, 'elias': 2, 'flesh': 2, 'daylight': 2, 'damning': 2, 'forgive': 2, 'drawback': 2, 'practically': 2, 'blame': 2, 'grating': 2, 'hoofs': 2, 'management': 2, 'midst': 2, 'monogram': 2, 'amusing': 2, 'bottles': 2, 'citizens': 2, 'colonies': 2, 'confused': 2, 'confidant': 2, 'cabs': 2, 'recommended': 2, 'print': 2, 'bulldog': 2, 'chances': 2, 'fritz': 2, 'strongest': 2, 'scored': 2, 'wash': 2, 'popular': 2, 'glossy': 2, 'wandered': 2, 'inexorable': 2, 'cashier': 2, 'handling': 2, 'falling': 2, 'dangling': 2, 'policy': 2, 'republican': 2, 'aversion': 2, 'situated': 2, 'pressure': 2, 'fainting': 2, 'spared': 2, 'cousin': 2, 'discovering': 2, 'communicated': 2, 'affection': 2, 'riverside': 2, 'vilest': 2, 'exchanged': 2, 'impatience': 2, 'losing': 2, 'dread': 2, 'clients': 2, 'relation': 2, 'suspect': 2, 'ventured': 2, 'numbers': 2, 'shouting': 2, 'dusk': 2, 'admiration': 2, 'reasoned': 2, 'colony': 2, 'anywhere': 2, 'homely': 2, 'goodge': 2, 'passers': 2, 'cloudless': 2, 'entertaining': 2, '1890': 2, 'index': 2, 'britannica': 2, 'copy': 2, 'foolscap': 2, 'quill': 2, 'anyhow': 2, 'actor': 2, 'adjusted': 2, 'extending': 2, 'queen': 2, 'succeed': 2, 'chat': 2, 'loafer': 2, 'sliding': 2, 'p': 2, 'beryls': 2, 'corners': 2, 'joined': 2, 'maids': 2, 'eyed': 2, 'faded': 2, 'ungrateful': 2, 'measures': 2, 'carbuncle': 2, 'gem': 2, 'plaster': 2, 'caps': 2, 'enclosure': 2, 'bullion': 2, 'length': 2, 'cracks': 2, 'magnifying': 2, 'perched': 2, 'attain': 2, 'pea': 2, 'nominal': 2, 'u': 2, 'follows': 2, 'fads': 2, 'probed': 2, 'nearest': 2, 'emerge': 2, 'australian': 2, 'conception': 2, '1869': 2, 'insufficient': 2, 'stroke': 2, 'sinking': 2, 'bending': 2, 'communication': 2, 'logic': 2, 'uncertain': 2, 'chambers': 2, 'apart': 2, 'hundreds': 2, 'bakers': 2, 'cuts': 2, 'answers': 2, 'braved': 2, 'mingled': 2, 'hoarse': 2, 'rabbit': 2, '83': 2, 'april': 2, 'paramore': 2, 'mccauley': 2, 'immensely': 2, 'killed': 2, 'braced': 2, 'bleeding': 2, 'separated': 2, 'beds': 2, 'lace': 2, 'nails': 2, 'couch': 2, 'national': 2, 'ruined': 2, 'jest': 2, 'disgraceful': 2, 'dreams': 2, 'shaped': 2, 'ransacked': 2, 'drawers': 2, 'turns': 2, 'diamond': 2, 'cleaver': 2, 'lean': 2, 'actionable': 2, 'specimen': 2, 'magnificent': 2, 'resource': 2, 'consulting': 2, '85': 2, 'scarlet': 2, 'landowner': 2, 'neighbouring': 2, 'outrages': 2, 'stretching': 2, 'confide': 2, 'flash': 2, 'gasfitters': 2, 'verge': 2, 'ormstein': 2, 'snapped': 2, 'smallest': 2, 'scissors': 2, 'ends': 2, 'carries': 2, 'charing': 2, 'cusack': 2, 'catherine': 2, 'shamefully': 2, 'sounded': 2, 'addressing': 2, 'provoked': 2, 'lust': 2, 'nostrils': 2, 'reaches': 2, 'baby': 2, 'derived': 2, 'mould': 2, 'senses': 2, 'severely': 2, 'bitten': 2, 'resided': 2, 'chimneys': 2, 'comparatively': 2, 'cheerily': 2, 'tender': 2, 'faults': 2, 'alternately': 2, 'superior': 2, 'trusty': 2, 'dwell': 2, 'garments': 2, 'hearted': 2, 'faddy': 2, 'disgust': 2, 'tales': 2, 'regular': 2, 'buttoned': 2, 'pet': 2, 'addition': 2, 'descended': 2, 'constables': 2, 'fresno': 2, 'fears': 2, 'stooped': 2, 'blanche': 2, 'carte': 2, 'advanced': 2, 'families': 2, 'seats': 2, 'spoiled': 2, 'disagreeable': 2, 'group': 2, 'till': 2, 'pledged': 2, 'paul': 2, 'packet': 2, 'evenings': 2, 'autumnal': 2, 'hint': 2, 'degree': 2, 'rearranging': 2, 'noiselessly': 2, 'false': 2, 'mat': 2, 'exaggerated': 2, 'expressed': 2, 'drifting': 2, 'fleecy': 2, 'ideal': 2, 'helped': 2, 'writer': 2, 'probability': 2, 'westaway': 2, 'wharves': 2, 'plot': 2, 'summer': 2, 'writhing': 2, 'laurel': 2, 'brightest': 2, 'accent': 2, 'knot': 2, 'erected': 2, 'insight': 2, 'outstretched': 2, 'assume': 2, 'satisfied': 2, 'villas': 2, 'jephro': 2, 'fiery': 2, 'blazing': 2, 'applying': 2, 'temporary': 2, 'rogue': 2, 'beating': 2, 'flagged': 2, 'causing': 2, 'solemn': 2, 'departure': 2, 'merest': 2, 'smoked': 2, 'ostlers': 2, 'roused': 2, 'blows': 2, 'spies': 2, 'haggard': 2, 'exclamation': 2, 'movement': 2, 'bade': 2, 'aquiline': 2, 'foreign': 2, '1883': 2, 'threatens': 2, 'job': 2, 'crate': 2, 'persuaded': 2, 'elbow': 2, 'inches': 2, 'seared': 2, 'moon': 2, 'nez': 2, 'pince': 2, 'clamped': 2, 'injury': 2, 'adopted': 2, 'cardboard': 2, 'fail': 2, 'capacity': 2, 'silently': 2, 'hinges': 2, 'outr': 2, 'scuffle': 2, 'loungers': 2, 'guardsmen': 2, 'considered': 2, 'bears': 2, 'clutches': 2, 'boarding': 2, 'tut': 2, 'perils': 2, 'curve': 2, 'imagination': 2, 'opponent': 2, 'fragment': 2, 'quote': 2, 'establish': 2, 'abandoned': 2, 'sleepers': 2, 'calmly': 2, 'listless': 2, 'exchange': 2, 'glared': 2, 'putty': 2, 'manor': 2, 'frighten': 2, 'tickets': 2, 'accomplice': 2, 'constraint': 2, 'class': 2, 'sample': 2, 'cravat': 2, 'seedy': 2, 'ignorant': 2, 'hereford': 2, 'herefordshire': 2, 'complex': 2, 'thrusting': 2, 'wink': 2, 'drives': 2, 'silver': 2, 'zero': 2, 'politics': 2, 'rack': 2, 'imprisonment': 2, 'suffered': 2, 'maker': 2, 'vacuous': 2, 'allegro': 2, 'calls': 2, 'outskirts': 2, 'stain': 2, 'disgrace': 2, 'introduced': 2, 'growing': 2, 'newcomers': 2, 'grandfather': 2, 'wrongfully': 2, 'entreaties': 2, 'petty': 2, 'bitterly': 2, 'instructive': 2, 'smokes': 2, 'composed': 2, 'agony': 2, 'owner': 2, 'prendergast': 2, 'womanly': 2, 'disregarding': 2, 'confidential': 2, 'transparent': 2, 'exclaimed': 2, 'especially': 2, 'objections': 2, 'brain': 2, 'concern': 2, 'senior': 2, 'gaol': 2, 'smaller': 2, 'brilliantly': 2, 'issue': 2, 'visits': 2, 'clearer': 2, 'whimsical': 2, 'pure': 2, 'thoroughfare': 2, 'hill': 2, 'contemplation': 2, 'blaze': 2, 'british': 2, 'original': 2, 'fog': 2, 'sharing': 2, 'securer': 2, 'confided': 2, 'voices': 2, 'borders': 2, 'shutter': 2, 'contact': 2, 'helper': 2, 'adviser': 2, 'copying': 2, 'soda': 2, 'whisky': 2, 'devoted': 2, 'patent': 2, 'attacked': 2, 'reveal': 2, '22nd': 2, 'handwriting': 2, 'individuality': 2, 'swung': 2, 'footfalls': 2, 'science': 2, 'associate': 2, 'studied': 2, 'odd': 2, 'sided': 2, 'pit': 2, 'measured': 2, 'smack': 2, 'mysteries': 2, 'brushed': 2, 'shapeless': 2, 'tunnel': 2, 'mission': 2, 'injuring': 2, 'mole': 2, 'framed': 2, 'ejaculation': 2, 'sternly': 2, 'compliment': 2, 'burning': 2, 'circles': 2, 'attic': 2, 'settling': 2, 'aberdeen': 2, 'dropping': 2, 'giant': 2, 'culprit': 2, 'grave': 2, 'remainder': 2, 'jewels': 2, 'resolute': 2, 'secured': 2, 'noise': 2, 'loud': 2, 'style': 2, 'bored': 2, 'social': 2, 'ushered': 2, 'scandinavia': 2, 'grand': 2, '100': 2, 'governesses': 2, 'implored': 2, 'realising': 2, 'consulted': 2, 'unlocking': 2, 'message': 2, 'palpitating': 2, 'directors': 2, 'sealed': 2, 'shop': 2, 'crawl': 2, 'gallows': 2, 'toy': 2, 'crackling': 2, 'chief': 2, 'fifteen': 2, 'twopence': 2, 'routine': 2, 'sharply': 2, 'dashing': 2, 'product': 2, 'whistles': 2, 'nocturnal': 2, 'desires': 2, 'explaining': 2, 'perceive': 2, 'required': 2, 'recollect': 2, 'mister': 2, 'machinery': 2, 'flames': 2, 'brick': 2, 'straw': 2, 'exception': 2, 'curtain': 2, 'indications': 2, 'snarl': 2, 'perpetual': 2, 'frost': 2, 'courtesy': 2, 'sings': 2, 'wreck': 2, 'offer': 2, 'indebted': 2, 'deference': 2, 'flap': 2, 'risk': 2, 'heh': 2, 'guinea': 2, 'swarm': 2, 'maybe': 2, 'powerful': 2, 'jove': 2, 'tattered': 2, 'sleeves': 2, 'plush': 2, 'darker': 2, 'lashed': 2, 'brougham': 2, 'deprived': 2, 'wooing': 2, 'gracious': 2, 'army': 2, 'condescend': 2, 'brows': 2, 'mines': 2, 'serving': 2, 'covent': 2, 'sherry': 2, 'dearest': 2, 'acres': 2, 'leaf': 2, 'blandly': 2, 'rings': 2, 'woven': 2, 'web': 2, 'stole': 2, 'exalted': 2, 'noblest': 2, 'implicate': 2, 'diary': 2, 'register': 2, 'stuck': 2, 'bloodless': 2, 'dare': 2, '27': 2, 'takings': 2, 'gross': 2, 'satisfy': 2, 'summoned': 2, 'haste': 2, 'belonged': 2, 'swore': 2, 'pouring': 2, 'newcomer': 2, 'impunity': 2, 'tiny': 2, 'loomed': 2, 'announce': 2, 'buttons': 2, 'philadelphia': 2, 'belonging': 2, 'flung': 2, 'wave': 2, 'devouring': 2, 'mirror': 2, 'gale': 2, 'weighed': 2, 'lumber': 2, 'drunkard': 2, 'fro': 2, 'groping': 2, 'submit': 2, '10s': 2, 'jumping': 2, 'fordham': 2, 'intense': 2, 'resist': 2, 'recompense': 2, 'skylight': 2, 'assisting': 2, 'englishman': 2, 'veins': 2, 'downward': 2, 'flowers': 2, 'devote': 2, 'replied': 2, 'wrung': 2, 'agricultural': 2, 'mixture': 2, 'tongue': 2, 'characteristics': 2, 'fourteen': 2, 'prolonged': 2, 'slam': 2, 'youngster': 2, 'thinker': 2, 'whereabouts': 2, 'february': 2, 'views': 2, 'favoured': 2, 'cocaine': 2, 'corresponds': 2, 'tear': 2, 'recovering': 2, 'vital': 2, 'wanting': 2, 'traffic': 2, 'chink': 2, 'lurid': 2, 'absurdly': 2, 'becher': 2, 'prosecution': 2, 'verdict': 2, 'eccentricity': 2, 'regard': 2, 'seal': 2, 'chagrin': 2, 'entries': 2, 'bills': 2, 'compressed': 2, 'attitude': 2, 'rigid': 2, 'stiff': 2, 'introduction': 2, 'hangs': 2, 'subdued': 2, 'kramm': 2, 'repairs': 2, 'parr': 2, 'lucy': 2, 'choose': 2, 'proves': 2, 'blotting': 2, 'greyish': 2, 'begged': 2, 'straighten': 2, 'warsaw': 2, 'cylinders': 2, 'controlled': 2, 'pressed': 2, 'stile': 2, 'escorted': 2, 'worthy': 2, 'fewer': 2, 'scraped': 2, 'generations': 2, 'labyrinth': 2, 'artistic': 2, 'fascinating': 2, 'limits': 2, 'thoughtfully': 2, 'contained': 2, 'villages': 2, 'suspecting': 2, 'annoyance': 2, 'neat': 2, 'temptation': 2, 'horrid': 2, 'division': 2, 'infinitely': 2, 'sly': 2, 'inst': 2, '9th': 2, 'wardrobe': 2, 'performance': 2, 'sufferer': 2, 'plenty': 2, 'trifle': 2, 'instrument': 2, 'accepted': 2, 'faith': 2, 'draught': 2, 'liked': 2, 'characteristic': 2, 'conceive': 2, 'witted': 2, 'languid': 2, 'music': 2, 'waving': 2, 'happiness': 2, 'grosvenor': 2, 'shabby': 2, 'retiring': 2, 'kent': 2, 'ending': 2, 'counties': 2, 'fattened': 2, 'heavier': 2, 'pound': 2, 'intuition': 2, 'proofs': 2, 'highway': 2, 'luck': 2, 'blooded': 2, 'chap': 2, 'compass': 2, 'pronounce': 2, 'ashes': 2, 'ash': 2, 'strangers': 2, 'mews': 2, 'fleet': 2, 'cocksure': 2, 'heiress': 2, 'marrying': 2, 'obligations': 2, 'sacrifice': 2, 'paces': 2, 'sodden': 2, 'belt': 2, 'sees': 2, 'edged': 2, 'guessed': 2, 'sleeps': 2, 'stirring': 2, 'hadn': 2, 'purse': 2, 'freemasonry': 2, 'invaluable': 2, 'destiny': 2, 'reckless': 2, 'stake': 2, 'pleased': 2, 'faces': 2, 'blowing': 2, 'bite': 2, 'maggie': 2, 'material': 2, 'delay': 2, 'assumed': 2, 'abutted': 2, 'brains': 2, 'blew': 2, 'disposal': 2, 'clink': 2, 'sits': 2, 'established': 2, 'displayed': 2, 'saviour': 2, 'fond': 2, 'trade': 2, 'individual': 2, 'incredulity': 2, 'restraint': 2, 'crisis': 2, 'hysterical': 2, 'exercise': 2, 'clues': 2, 'saving': 2, 'felony': 2, 'dislike': 2, 'menaced': 1, 'consultations': 1, 'retreat': 1, 'spinster': 1, 'tying': 1, 'vouching': 1, 'responses': 1, 'strip': 1, 'chesterfield': 1, 'schoolmaster': 1, 'cheap': 1, 'allude': 1, 'destruction': 1, 'vanishes': 1, 'suspected': 1, 'necktie': 1, 'feminine': 1, 'prosecuted': 1, 'pluck': 1, 'brazier': 1, 'eley': 1, 'buildings': 1, 'foppishness': 1, 'dwelling': 1, 'site': 1, 'pinnacles': 1, 'jutting': 1, 'symptom': 1, 'oscillates': 1, 'subduing': 1, 'depressing': 1, 'expectancy': 1, 'stares': 1, 'impertinent': 1, 'fancier': 1, 'fowl': 1, 'pretext': 1, 'dryly': 1, 'unobserved': 1, 'promptly': 1, 'pokers': 1, 'argument': 1, 'porter': 1, 'proud': 1, 'humble': 1, 'verify': 1, 'farewell': 1, 'operations': 1, 'rearing': 1, 'suggests': 1, 'solitude': 1, 'lured': 1, 'jot': 1, 'refreshed': 1, 'cousins': 1, 'britain': 1, 'sulking': 1, 'gloomy': 1, 'alternation': 1, 'billet': 1, 'dared': 1, 'cares': 1, 'porch': 1, 'thoughtful': 1, 'millionaire': 1, 'definitely': 1, 'arrows': 1, 'concluding': 1, 'equality': 1, 'tenant': 1, 'harsh': 1, 'flaring': 1, 'striding': 1, 'fleeting': 1, 'guidance': 1, 'dismissed': 1, 'renewed': 1, 'suitor': 1, 'permanent': 1, 'trip': 1, 'grinned': 1, 'centuries': 1, 'plan': 1, 'observant': 1, 'earnest': 1, 'heinous': 1, 'emaciation': 1, 'authenticity': 1, 'blackmailing': 1, 'bloody': 1, 'facet': 1, 'hugged': 1, 'passionate': 1, 'flattened': 1, 'precautions': 1, 'resistless': 1, 'entailed': 1, 'responsibility': 1, 'enjoyed': 1, 'syllables': 1, 'avoid': 1, '1888': 1, 'acknowledge': 1, 'burglar': 1, 'sentinel': 1, '249': 1, 'hedge': 1, 'straggling': 1, 'whirling': 1, 'detailing': 1, 'sheep': 1, 'cooped': 1, 'foliage': 1, 'steadings': 1, 'aldershot': 1, 'rolling': 1, 'countryside': 1, 'roll': 1, 'flitted': 1, 'inquirer': 1, 'goading': 1, 'sheer': 1, 'parties': 1, 'punish': 1, 'wilton': 1, 'wicker': 1, 'humiliation': 1, 'pals': 1, 'umbrella': 1, 'streaming': 1, 'unopened': 1, 'allowing': 1, 'imprudence': 1, 'zest': 1, 'admiring': 1, 'breastpin': 1, 'arc': 1, 'rules': 1, 'intelligence': 1, 'panelled': 1, 'burden': 1, 'awoke': 1, 'berth': 1, 'beckoning': 1, 'malay': 1, 'slumber': 1, 'profoundly': 1, 'eccentric': 1, 'metropolitan': 1, 'germans': 1, 'finns': 1, 'summarise': 1, '89': 1, 'darkened': 1, 'unavenged': 1, 'granted': 1, 'breathed': 1, 'hinting': 1, 'lovers': 1, 'doubly': 1, 'whisper': 1, 'moustache': 1, 'masked': 1, 'disguised': 1, 'connivance': 1, 'introspect': 1, 'cease': 1, 'chapter': 1, 'foresaw': 1, 'throbbed': 1, 'campaign': 1, 'afghan': 1, 'relic': 1, 'bullet': 1, 'jezail': 1, 'winds': 1, 'flurried': 1, 'reliance': 1, 'implicit': 1, 'tells': 1, 'correspondence': 1, 'mortal': 1, 'swimming': 1, 'exit': 1, 'farrington': 1, 'fellows': 1, 'threatening': 1, 'expressions': 1, 'abusive': 1, 'uttering': 1, 'commanding': 1, 'imposing': 1, 'portly': 1, 'sickness': 1, 'avail': 1, 'sympathetic': 1, 'bruise': 1, 'race': 1, 'indulgently': 1, 'pathway': 1, 'bang': 1, 'clatter': 1, 'tails': 1, 'flaming': 1, 'flushing': 1, 'persistently': 1, 'rumours': 1, 'bonny': 1, 'mention': 1, 'couldn': 1, 'wallowed': 1, 'buffalo': 1, 'herd': 1, 'petrarch': 1, 'offensive': 1, 'concisely': 1, 'caraffe': 1, 'ferocious': 1, 'overjoyed': 1, 'exchanging': 1, 'indication': 1, 'brickish': 1, 'slate': 1, 'revealing': 1, 'regency': 1, 'wasteful': 1, 'dissolute': 1, 'heirs': 1, 'century': 1, 'extra': 1, 'prick': 1, 'grate': 1, 'solder': 1, 'crushing': 1, 'monger': 1, 'furnishes': 1, 'clears': 1, 'evolve': 1, 'bloc': 1, 'en': 1, 'sidled': 1, 'picking': 1, 'daubing': 1, 'butted': 1, 'joseph': 1, 'sons': 1, 'pierce': 1, 'sprung': 1, 'whim': 1, 'beauties': 1, 'grievance': 1, 'needle': 1, 'breaches': 1, 'unrepaired': 1, 'supposition': 1, 'community': 1, 'classes': 1, 'government': 1, 'flourished': 1, 'vulnerable': 1, 'friendship': 1, 'rightly': 1, 'elsewhere': 1, 'diabetes': 1, 'impressive': 1, 'ate': 1, 'bounds': 1, 'leaps': 1, 'invested': 1, 'cluster': 1, 'fortunes': 1, 'scratch': 1, 'steal': 1, 'grove': 1, 'thickening': 1, 'timbered': 1, 'inscrutable': 1, 'arat': 1, 'fascination': 1, 'smearing': 1, 'arduous': 1, 'suppressing': 1, 'shortcomings': 1, 'literary': 1, 'lecture': 1, 'columns': 1, 'continuously': 1, 'dipping': 1, 'chaff': 1, 'mendicants': 1, 'disfigured': 1, 'writings': 1, 'virtues': 1, 'lingering': 1, 'cured': 1, 'abominable': 1, 'projecting': 1, 'jowl': 1, 'tawny': 1, 'calf': 1, 'bathroom': 1, 'developments': 1, 'acquiesce': 1, 'sighing': 1, 'marines': 1, 'julia': 1, 'paleness': 1, 'meningen': 1, 'lothman': 1, 'clotilde': 1, 'triumphant': 1, 'ventilate': 1, 'ventilators': 1, 'ropes': 1, 'cable': 1, 'mail': 1, 'breakfasts': 1, 'digesting': 1, 'westward': 1, 'abrupt': 1, 'crowns': 1, 'cheating': 1, 'supporting': 1, 'stored': 1, 'tin': 1, 'nickel': 1, 'masses': 1, 'hastily': 1, 'hydraulics': 1, 'journeyed': 1, 'steamer': 1, 'retrogression': 1, 'moral': 1, 'pensioners': 1, 'glisten': 1, '16a': 1, 'victor': 1, 'hobbies': 1, 'swag': 1, 'boys': 1, 'eh': 1, 'concealment': 1, 'yonder': 1, 'fetch': 1, 'recorded': 1, 'mischance': 1, 'scared': 1, 'nest': 1, 'antagonist': 1, 'bearded': 1, 'perceived': 1, 'misjudged': 1, 'slighter': 1, 'mademoiselle': 1, 'ghost': 1, 'deposes': 1, 'lain': 1, 'lustre': 1, 'lack': 1, 'chins': 1, 'poses': 1, 'aspect': 1, 'precipitance': 1, 'fogs': 1, 'dockyard': 1, 'bermuda': 1, 'timid': 1, 'depositors': 1, 'increasing': 1, 'funds': 1, 'remunerative': 1, 'duplicate': 1, 'items': 1, 'francis': 1, 'northumberland': 1, 'wisp': 1, 'trail': 1, 'ragged': 1, 'disregard': 1, 'affecting': 1, 'acetones': 1, 'anoints': 1, 'sedentary': 1, 'cumbrous': 1, 'journeys': 1, 'pretended': 1, 'obstinacy': 1, 'odour': 1, 'adhesive': 1, 'ribbed': 1, 'mouthed': 1, 'tempered': 1, 'carved': 1, 'stern': 1, 'seamed': 1, 'ladyship': 1, 'condemned': 1, 'unfinished': 1, 'turf': 1, 'squander': 1, 'balzac': 1, 'quotes': 1, 'sequel': 1, 'parley': 1, 'contemptuous': 1, 'indifferent': 1, 'secreting': 1, 'secretive': 1, 'echo': 1, 'standard': 1, 'mall': 1, 'pall': 1, 'globe': 1, 'archie': 1, 'continent': 1, 'broader': 1, 'saluted': 1, 'hail': 1, 'abiding': 1, 'uncouth': 1, 'cabby': 1, 'thames': 1, 'decision': 1, 'reconsidered': 1, 'paramount': 1, 'bedtime': 1, 'cheer': 1, 'accommodate': 1, 'pursue': 1, 'sought': 1, 'antics': 1, 'repulsion': 1, 'imploring': 1, 'valid': 1, 'converse': 1, 'distinctive': 1, 'grieved': 1, 'perplexed': 1, 'cake': 1, 'ft': 1, 'risks': 1, 'officials': 1, 'patients': 1, 'steadily': 1, 'tattooed': 1, 'invaders': 1, 'prizes': 1, 'editions': 1, 'improvisations': 1, 'languor': 1, 'margins': 1, 'unburned': 1, 'remembrance': 1, 'treatment': 1, 'actual': 1, 'expressive': 1, 'vigil': 1, 'amethyst': 1, 'snuffbox': 1, '87': 1, 'tiara': 1, 'opal': 1, 'emerald': 1, 'irresistible': 1, 'plucked': 1, 'frantically': 1, 'removing': 1, 'befallen': 1, 'compose': 1, 'defray': 1, 'studying': 1, 'ungenerously': 1, 'tool': 1, 'sensible': 1, 'tones': 1, 'chatted': 1, 'fasteners': 1, 'talker': 1, 'everywhere': 1, 'feat': 1, 'separation': 1, 'dundas': 1, 'meredith': 1, 'stuffs': 1, 'beggary': 1, 'fruits': 1, 'accumulated': 1, 'hoard': 1, 'rushes': 1, 'instep': 1, 'outline': 1, 'vessels': 1, 'masonry': 1, 'firmly': 1, 'tested': 1, 'resistance': 1, 'accompanied': 1, 'forbidden': 1, 'lookout': 1, 'focus': 1, 'nucleus': 1, 'superscribed': 1, 'measure': 1, 'indirectly': 1, 'undertaking': 1, 'hacked': 1, 'indistinguishable': 1, 'hinted': 1, 'spectacles': 1, 'chose': 1, 'plays': 1, 'sarasate': 1, 'laudanum': 1, 'sensations': 1, 'quincey': 1, 'college': 1, 'freak': 1, 'vestige': 1, 'mastery': 1, 'requests': 1, 'breach': 1, 'deny': 1, 'unusually': 1, 'compasses': 1, 'ordnance': 1, 'frosty': 1, 'buttoning': 1, 'disagreements': 1, 'professionally': 1, 'entire': 1, 'handedness': 1, 'bond': 1, 'hurts': 1, 'fagged': 1, 'lanes': 1, 'hired': 1, 'catching': 1, 'shuttered': 1, 'corresponded': 1, 'barricaded': 1, 'gush': 1, 'bundles': 1, 'trunks': 1, 'collection': 1, 'keyhole': 1, 'assuredly': 1, 'annoyed': 1, 'roasting': 1, 'profound': 1, 'empire': 1, 'possessions': 1, 'planning': 1, 'trophy': 1, 'incalculable': 1, 'chasing': 1, 'collapse': 1, 'relevant': 1, 'mess': 1, 'thursday': 1, 'administration': 1, 'assures': 1, 'wicket': 1, 'briskly': 1, 'stillness': 1, 'bible': 1, 'threats': 1, 'persuasions': 1, 'crawled': 1, 'unprecedented': 1, 'resembling': 1, 'contortions': 1, 'waggled': 1, 'greet': 1, 'troubling': 1, 'decoyed': 1, 'directly': 1, 'arrive': 1, 'lancaster': 1, 'tendencies': 1, 'gaining': 1, 'realistic': 1, 'producing': 1, 'selection': 1, 'kettle': 1, 'escaping': 1, 'steam': 1, 'audible': 1, 'accessory': 1, 'antecedents': 1, 'membra': 1, 'disjecta': 1, 'relics': 1, 'campaigner': 1, 'bland': 1, 'sturdy': 1, 'fruitless': 1, 'worry': 1, 'mortals': 1, 'askance': 1, 'unacquainted': 1, 'meddler': 1, 'cushioned': 1, 'leader': 1, 'destined': 1, 'flare': 1, 'occurrences': 1, '25': 1, 'writ': 1, 'oppressively': 1, 'peter': 1, 'financier': 1, 'modest': 1, 'hobby': 1, 'merit': 1, 'composer': 1, 'performer': 1, 'musician': 1, 'widower': 1, 'originality': 1, 'enterprise': 1, 'interrupted': 1, 'accomplishment': 1, 'encyclopaedias': 1, 'implies': 1, 'utilise': 1, 'consumed': 1, 'kissed': 1, 'peculiarities': 1, 'gong': 1, 'waist': 1, 'boyish': 1, 'scummed': 1, 'spots': 1, 'livid': 1, 'soles': 1, 'rails': 1, 'slut': 1, 'urging': 1, 'cabinet': 1, 'glitter': 1, 'steely': 1, 'utter': 1, 'uneasy': 1, 'devonshire': 1, 'coquettish': 1, 'tilted': 1, 'boa': 1, 'ensue': 1, 'cornwall': 1, 'orphanage': 1, 'build': 1, 'disappoint': 1, 'trusted': 1, 'pon': 1, 'securing': 1, 'dispel': 1, 'charles': 1, 'farms': 1, 'counsel': 1, 'defending': 1, 'submitted': 1, 'acquitted': 1, 'pets': 1, 'mopping': 1, 'tinged': 1, 'combined': 1, 'informing': 1, 'constabulary': 1, 'inextricable': 1, 'disentangled': 1, 'masterly': 1, 'sundials': 1, 'grinder': 1, 'ruthless': 1, 'tons': 1, 'piston': 1, 'eyeglasses': 1, 'crates': 1, 'piled': 1, 'conducted': 1, 'wherever': 1, 'gesture': 1, 'despairing': 1, 'stethoscope': 1, 'secreted': 1, 'bulge': 1, 'nitrate': 1, 'iodoform': 1, 'attentions': 1, 'vagabond': 1, 'reconsider': 1, 'drama': 1, 'gossips': 1, 'piquant': 1, 'eclipsed': 1, 'scandals': 1, 'princess': 1, 'gallop': 1, 'flicking': 1, 'suppliers': 1, 'turkish': 1, 'heelless': 1, 'ankles': 1, 'synthesis': 1, 'faculties': 1, 'figured': 1, 'trials': 1, 'bres': 1, 'causes': 1, 'prominence': 1, 'embellish': 1, 'tomfoolery': 1, 'civilised': 1, 'luggage': 1, 'diverted': 1, 'requirement': 1, 'outhouse': 1, 'consoled': 1, 'raved': 1, 'peeled': 1, 'compliments': 1, 'wishing': 1, 'goodwill': 1, '4700': 1, 'skirmishes': 1, 'safety': 1, 'tinker': 1, 'hotels': 1, 'eightpence': 1, 'obstinate': 1, 'argue': 1, 'comfortably': 1, 'stroll': 1, 'delirious': 1, 'commonly': 1, 'spreading': 1, 'june': 1, 'glow': 1, 'betrayed': 1, 'groan': 1, 'episode': 1, 'memoir': 1, 'superscription': 1, 'divan': 1, 'constructed': 1, 'imply': 1, 'secrets': 1, 'finish': 1, 'purses': 1, 'londoners': 1, 'landed': 1, 'iota': 1, 'tiniest': 1, 'detracted': 1, 'stamped': 1, 'tonnage': 1, 'ships': 1, 'dragging': 1, 'imperturbably': 1, 'crocuses': 1, 'sand': 1, 'flaubert': 1, 'gustave': 1, 'oeuvre': 1, 'rien': 1, 'homme': 1, 'caved': 1, 'partly': 1, 'wings': 1, 'bonniest': 1, 'sleepily': 1, 'risers': 1, 'earliest': 1, 'warned': 1, 'entreated': 1, 'alert': 1, 'sunburnt': 1, 'wiry': 1, 'endeavour': 1, 'artillery': 1, 'bengal': 1, 'widow': 1, 'purest': 1, 'coeur': 1, 'affaire': 1, 'oscillation': 1, 'win': 1, 'brazen': 1, 'tumultuously': 1, 'disadvantage': 1, 'repartee': 1, 'facility': 1, 'average': 1, '700': 1, 'homesteads': 1, 'chubb': 1, 'personality': 1, 'heather': 1, 'complicates': 1, 'flooring': 1, 'mercifully': 1, 'concerts': 1, 'mexico': 1, 'arizona': 1, 'prospecting': 1, 'montana': 1, 'un': 1, 'cosmopolitan': 1, 'outdoor': 1, 'urgent': 1, 'brief': 1, 'summons': 1, 'hailed': 1, 'scheming': 1, 'feigned': 1, 'intellectual': 1, 'demurely': 1, 'speckles': 1, 'brownish': 1, 'glowing': 1, 'conscious': 1, 'background': 1, 'considerations': 1, 'sentimental': 1, 'forgiveness': 1, 'provide': 1, 'pens': 1, 'rumble': 1, 'countryman': 1, 'builder': 1, 'bile': 1, 'wrinkles': 1, 'vere': 1, 'walsingham': 1, 'pupils': 1, 'pin': 1, 'pasty': 1, 'afghanistan': 1, 'european': 1, 'preserved': 1, 'chivalrous': 1, 'necessity': 1, 'patron': 1, 'ascend': 1, 'stepmother': 1, 'unreasoning': 1, 'silly': 1, 'pestering': 1, 'justified': 1, 'burglars': 1, 'area': 1, 'gash': 1, 'ii': 1, 'conscience': 1, 'nonconformist': 1, 'minded': 1, 'pancras': 1, 'entrance': 1, 'sweep': 1, 'cannon': 1, '14': 1, 'companies': 1, 'boiling': 1, 'sunday': 1, 'meditation': 1, 'pedestrians': 1, 'footpaths': 1, 'outward': 1, 'commerce': 1, 'roadway': 1, 'gasogene': 1, 'spirit': 1, 'berths': 1, 'providing': 1, 'instructions': 1, 'processes': 1, 'imitate': 1, 'nervously': 1, '120': 1, 'folding': 1, 'tray': 1, 'diversity': 1, 'shan': 1, 'thereby': 1, 'gear': 1, 'stamping': 1, 'clinked': 1, 'barrel': 1, 'mastiff': 1, 'demon': 1, 'balanced': 1, 'abhorrent': 1, 'emotions': 1, 'sending': 1, 'openness': 1, 'casket': 1, 'absorbing': 1, 'snigger': 1, 'clasped': 1, 'eavesdroppers': 1, 'stripes': 1, 'quartering': 1, 'flag': 1, 'minister': 1, 'blundering': 1, 'monarch': 1, 'folly': 1, 'furtive': 1, 'ferret': 1, 'arguments': 1, 'blockaded': 1, 'seaman': 1, 'persevering': 1, 'boisterous': 1, 'bluff': 1, 'proportion': 1, 'principles': 1, 'imprisoned': 1, 'personate': 1, 'shoots': 1, 'hedges': 1, 'stimulant': 1, 'thinness': 1, 'exceeding': 1, 'fortnight': 1, 'plucking': 1, 'frantic': 1, 'profited': 1, 'ushering': 1, 'drank': 1, 'preserver': 1, 'bluster': 1, 'perpetrators': 1, 'braving': 1, 'systematic': 1, 'tugging': 1, 'tropics': 1, 'intensified': 1, 'mania': 1, 'scala': 1, 'la': 1, 'inflicted': 1, 'reopening': 1, 'wounded': 1, 'dew': 1, 'usage': 1, 'learning': 1, 'choosing': 1, 'staccato': 1, 'avoiding': 1, 'denying': 1, 'judged': 1, 'politicians': 1, 'reconstruction': 1, 'crucial': 1, 'moves': 1, 'termination': 1, 'x': 1, 'millions': 1, 'derbies': 1, 'fix': 1, 'cringing': 1, 'concise': 1, 'chestnut': 1, 'sallies': 1, 'abuse': 1, 'dipped': 1, 'granting': 1, 'garment': 1, 'solely': 1, 'survived': 1, 'competence': 1, 'tire': 1, 'unbreakable': 1, 'patentee': 1, 'element': 1, 'captured': 1, 'survivor': 1, 'pirates': 1, 'cool': 1, 'overtopped': 1, 'rueful': 1, 'surveyed': 1, '9': 1, 'october': 1, 'rifled': 1, 'vi': 1, 'opposition': 1, 'oil': 1, 'gaping': 1, 'skirts': 1, 'rending': 1, 'dived': 1, 'tears': 1, 'signet': 1, 'packed': 1, 'panted': 1, 'urged': 1, 'absolved': 1, 'maintenance': 1, 'propagation': 1, 'insensibility': 1, 'lanterns': 1, 'tunnels': 1, 'haired': 1, 'refined': 1, 'twitch': 1, 'betraying': 1, 'drinking': 1, 'receipts': 1, 'memoranda': 1, 'label': 1, 'liberated': 1, 'freemason': 1, 'painfully': 1, 'throbbing': 1, 'scruples': 1, 'loathing': 1, 'cosy': 1, 'hindrance': 1, 'hears': 1, 'lowered': 1, 'curses': 1, 'inimitably': 1, 'pertoire': 1, 'hushing': 1, 'suspended': 1, 'forceps': 1, 'imminent': 1, 'meanwhile': 1, 'existing': 1, 'pre': 1, 'sots': 1, 'ramblings': 1, 'incoherent': 1, 'hyde': 1, 'wrists': 1, 'chiffon': 1, 'soie': 1, 'mousseline': 1, 'blonde': 1, 'foretold': 1, 'undertake': 1, 'excuses': 1, 'etherege': 1, 'actress': 1, 'famished': 1, 'volunteered': 1, 'editor': 1, 'forearm': 1, 'patting': 1, 'soothingly': 1, 'tucked': 1, 'droning': 1, 'rocked': 1, 'instruction': 1, 'painted': 1, 'rival': 1, 'drawled': 1, 'allows': 1, 'accumulation': 1, 'touching': 1, 'despaired': 1, 'disc': 1, 'sideways': 1, 'feeble': 1, 'loftily': 1, 'dweller': 1, 'anstruther': 1, 'advancing': 1, 'offhand': 1, 'sacrificing': 1, 'inferred': 1, 'confirmed': 1, 'bashful': 1, 'fumbled': 1, 'eligible': 1, 'wealthy': 1, 'boundary': 1, 'girt': 1, 'reed': 1, 'limb': 1, 'screen': 1, 'annual': 1, 'provision': 1, 'bequeathed': 1, 'axiom': 1, 'guttering': 1, 'frequent': 1, 'believing': 1, 'apparelled': 1, 'footmen': 1, 'proposed': 1, 'throats': 1, 'cravats': 1, 'ulsters': 1, 'ally': 1, 'smarter': 1, 'gratitude': 1, 'outweigh': 1, 'castle': 1, 'arnsworth': 1, 'substitution': 1, 'darlington': 1, 'transaction': 1, 'recess': 1, 'worms': 1, 'tricks': 1, 'implicated': 1, 'villains': 1, 'wooded': 1, 'thickly': 1, 'saddest': 1, 'wee': 1, 'happening': 1, 'allusions': 1, 'fidelity': 1, 'virtue': 1, 'detain': 1, 'outbreaks': 1, 'sporadic': 1, 'collapsed': 1, 'schools': 1, 'pencils': 1, 'degenerating': 1, 'throws': 1, 'title': 1, 'employs': 1, 'august': 1, 'shuddered': 1, 'spine': 1, 'tollers': 1, 'perspired': 1, 'wearer': 1, 'gritty': 1, 'chuckling': 1, 'enters': 1, 'await': 1, 'indisposition': 1, 'complained': 1, 'interruption': 1, 'fortunately': 1, 'changes': 1, 'dirt': 1, 'cheerless': 1, 'dusty': 1, 'unfailingly': 1, 'standi': 1, 'locus': 1, 'escort': 1, 'uncomfortable': 1, 'childish': 1, 'cough': 1, 'regained': 1, 'borrow': 1, 'uncompromising': 1, 'shift': 1, 'mature': 1, 'handle': 1, 'crust': 1, 'consisted': 1, 'chaffering': 1, 'villagers': 1, 'animals': 1, 'resolved': 1, 'probing': 1, 'planking': 1, 'sounding': 1, 'railings': 1, 'nursery': 1, 'edward': 1, 'remanded': 1, 'meadows': 1, 'senders': 1, 'unwound': 1, 'overhear': 1, 'tube': 1, 'retort': 1, 'stooping': 1, 'indulged': 1, 'arabian': 1, 'genii': 1, 'luxuries': 1, 'erroneous': 1, 'faster': 1, 'restive': 1, 'preference': 1, 'unwise': 1, 'corroboration': 1, 'rank': 1, 'wedlock': 1, 'unclaspings': 1, 'claspings': 1, 'herald': 1, 'thrill': 1, 'identified': 1, 'pays': 1, 'draws': 1, 'wreaths': 1, 'blurs': 1, 'dun': 1, 'helping': 1, 'sunshine': 1, 'elbows': 1, 'petersfield': 1, 'accurately': 1, 'correctly': 1, 'cuvier': 1, 'predominated': 1, 'contemplative': 1, 'poetic': 1, 'represented': 1, 'astuteness': 1, 'exactness': 1, 'asserted': 1, 'dual': 1, 'mills': 1, 'factories': 1, 'numerous': 1, 'wallenstein': 1, 'normal': 1, 'accomplished': 1, 'overtaken': 1, 'demand': 1, 'baleful': 1, 'cordially': 1, 'explains': 1, 'muff': 1, 'favourable': 1, 'identical': 1, 'propound': 1, 'scott': 1, 'fidgeted': 1, 'oscillated': 1, 'panoply': 1, 'hesitate': 1, 'injustice': 1, '750': 1, '1100': 1, 'total': 1, 'worlds': 1, 'unravelling': 1, 'formalities': 1, 'pritchard': 1, 'palmer': 1, 'stretch': 1, 'scribble': 1, 'cubic': 1, 'effusive': 1, 'extinguishes': 1, 'vestry': 1, 'clerk': 1, 'astonished': 1, 'bustled': 1, 'grateful': 1, 'bargain': 1, 'sluggishly': 1, 'murky': 1, 'balustraded': 1, 'whip': 1, 'flicked': 1, 'consuming': 1, 'source': 1, 'adding': 1, 'nail': 1, 'spellbound': 1, 'destitute': 1, 'overhauled': 1, 'represents': 1, 'ugliness': 1, 'grime': 1, 'limit': 1, 'postmarks': 1, 'extinguished': 1, 'twitter': 1, 'recesses': 1, 'payment': 1, 'slink': 1, '200': 1, 'dealings': 1, 'stupidity': 1, 'oppressed': 1, 'cheerful': 1, 'horrors': 1, 'desultory': 1, 'comment': 1, 'cure': 1, 'bandaged': 1, 'thumped': 1, 'trove': 1, 'clanging': 1, 'resounded': 1, 'propriety': 1, 'skull': 1, 'abound': 1, 'pits': 1, 'prosperity': 1, 'employers': 1, 'conspicuous': 1, 'hated': 1, 'horace': 1, 'hafiz': 1, 'valise': 1, 'barque': 1, '1878': 1, 'weighing': 1, 'barrow': 1, 'coster': 1, 'weaken': 1, 'lapse': 1, 'edgeware': 1, 'hankey': 1, 'pacific': 1, 'occipital': 1, 'parietal': 1, 'posterior': 1, 'deposition': 1, 'quitted': 1, 'stagnant': 1, 'shops': 1, 'anybody': 1, 'compromising': 1, 'flatter': 1, 'customer': 1, 'sailor': 1, 'typewrite': 1, 'chaffed': 1, 'bath': 1, 'gladstone': 1, 'moonless': 1, 'sticks': 1, 'meadow': 1, 'detour': 1, 'dismay': 1, 'deposed': 1, 'exert': 1, 'tenfold': 1, 'paths': 1, 'heaped': 1, 'crumbly': 1, 'ploughed': 1, 'experiences': 1, 'whittington': 1, 'alicia': 1, 'clara': 1, 'eustace': 1, 'performed': 1, 'commons': 1, 'consequence': 1, 'commissions': 1, 'remarking': 1, 'earlier': 1, 'curves': 1, 'slopes': 1, 'armchairs': 1, 'cushions': 1, 'collecting': 1, 'coarsely': 1, 'prepared': 1, 'overhead': 1, 'renew': 1, 'hinders': 1, 'eggs': 1, 'rashers': 1, 'doubting': 1, 'proposition': 1, 'smokeless': 1, 'sensation': 1, 'ray': 1, 'beget': 1, 'thud': 1, 'tortured': 1, 'solicitor': 1, 'richness': 1, 'shrilly': 1, 'forefingers': 1, 'verbs': 1, 'uncourteous': 1, 'tense': 1, 'sharpened': 1, 'coincidence': 1, 'adjective': 1, 'handkerchiefs': 1, 'cal': 1, 'francisco': 1, 'san': 1, 'loitering': 1, 'somehow': 1, 'interrupt': 1, 'deportment': 1, 'senility': 1, 'lipped': 1, 'doddering': 1, 'subsided': 1, 'fuss': 1, 'sends': 1, 'generation': 1, 'curse': 1, 'happily': 1, 'fringed': 1, 'frill': 1, 'seller': 1, 'ostensibly': 1, 'appropriate': 1, 'wives': 1, 'eighteen': 1, 'thoreau': 1, 'trout': 1, 'whispering': 1, 'glands': 1, 'swollen': 1, 'quinsy': 1, 'lazily': 1, 'crest': 1, 'saturated': 1, 'surrounded': 1, 'alike': 1, 'preliminary': 1, 'equal': 1, 'speciously': 1, 'compliance': 1, 'identify': 1, 'puzzling': 1, 'featureless': 1, 'staples': 1, 'seasonable': 1, 'sex': 1, 'predominates': 1, 'eclipses': 1, 'climbing': 1, 'quicker': 1, 'agonies': 1, 'secretly': 1, 'homeward': 1, 'bijou': 1, 'chatting': 1, 'bandy': 1, 'filial': 1, 'slang': 1, 'signalled': 1, 'discrepancy': 1, 'fountain': 1, 'trafalgar': 1, 'operatic': 1, 'basketful': 1, 'pallet': 1, 'rotterdam': 1, 'variety': 1, '1s': 1, 'cocktail': 1, 'chucked': 1, 'deceive': 1, 'difference': 1, 'crouched': 1, 'businesslike': 1, 'sceptic': 1, 'coolest': 1, 'paternal': 1, 'thither': 1, '226': 1, 'forwarded': 1, 'f': 1, 'clutching': 1, 'overstrung': 1, 'strenuously': 1, 'smoothness': 1, 'bumping': 1, 'hungrily': 1, 'fraud': 1, 'hoax': 1, 'reclaim': 1, 'bread': 1, 'rounds': 1, 'sandwiched': 1, 'joint': 1, 'beef': 1, 'slice': 1, 'rectify': 1, 'supplier': 1, 'poultry': 1, 'tremor': 1, 'simplest': 1, 'scores': 1, 'waylaid': 1, '10th': 1, 'unclasping': 1, 'clasping': 1, 'lateness': 1, 'uncommon': 1, 'prince': 1, 'moody': 1, 'relapsed': 1, 'slave': 1, 'snug': 1, 'ix': 1, 'gleam': 1, 'whiter': 1, 'pinched': 1, 'shocked': 1, 'paris': 1, 'sour': 1, 'xi': 1, 'applicant': 1, 'ebbing': 1, 'protesting': 1, 'prague': 1, 'incognito': 1, 'wavering': 1, 'lodger': 1, 'theft': 1, 'sullenly': 1, 'pomposity': 1, 'current': 1, 'sorely': 1, 'soled': 1, 'wears': 1, 'limps': 1, 'nonsense': 1, 'swan': 1, 'trite': 1, 'walsall': 1, 'manifested': 1, 'presses': 1, 'typewritist': 1, 'settles': 1, 'unlikely': 1, 'georgia': 1, 'carolinas': 1, 'louisiana': 1, 'tennessee': 1, 'notably': 1, 'soldiers': 1, 'dealing': 1, 'circumspect': 1, 'rabbits': 1, 'twinkle': 1, 'pence': 1, 'host': 1, 'presents': 1, 'scratching': 1, 'stirred': 1, 'accompanying': 1, 'adventuress': 1, 'lengthy': 1, 'shed': 1, 'serenely': 1, 'calcutta': 1, 'enabled': 1, 'obtained': 1, 'adapt': 1, 'pauper': 1, 'squire': 1, 'intend': 1, 'grinning': 1, 'forgetfulness': 1, 'dies': 1, 'voil': 1, 'astir': 1, 'overdid': 1, 'preach': 1, 'arrival': 1, 'spattered': 1, 'flies': 1, 'spun': 1, 'accidents': 1, 'jokes': 1, 'tricky': 1, 'fulfilment': 1, 'threat': 1, 'dubious': 1, 'lure': 1, 'wits': 1, 'vacancies': 1, 'splendid': 1, 'estates': 1, 'detailed': 1, 'veiled': 1, 'lidded': 1, 'coil': 1, 'warmth': 1, 'paradoxical': 1, 'conveniently': 1, 'parapet': 1, 'blacksmith': 1, 'rifle': 1, 'cocking': 1, 'fanciful': 1, 'preserving': 1, 'discreet': 1, 'proficient': 1, 'characterises': 1, 'neatness': 1, 'military': 1, 'kneeling': 1, 'hardihood': 1, 'bearings': 1, 'exceptionally': 1, 'fangs': 1, 'punctures': 1, 'splendidly': 1, 'mental': 1, 'distracting': 1, 'temperament': 1, 'finely': 1, 'intrusions': 1, 'stages': 1, 'authorities': 1, 'exhibited': 1, 'certificates': 1, 'kings': 1, 'implicates': 1, 'impersonal': 1, 'exceeded': 1, 'shutting': 1, 'career': 1, 'files': 1, 'registers': 1, 'lloyd': 1, 'gipsy': 1, 'unnoticed': 1, 'galvanised': 1, 'overhearing': 1, 'deficiencies': 1, 'kill': 1, 'peeress': 1, 'transition': 1, 'alliance': 1, 'gainer': 1, 'californian': 1, 'birchmoor': 1, 'convenient': 1, 'eastward': 1, 'speeding': 1, 'stepdaughter': 1, 'ideas': 1, 'combine': 1, 'ornaments': 1, 'sewn': 1, 'beads': 1, 'retorted': 1, 'studies': 1, 'trains': 1, 'disregarded': 1, 'unconcerned': 1, 'estimate': 1, 'lowest': 1, 'decrepit': 1, 'standpoint': 1, 'entry': 1, 'silvered': 1, 'coaxing': 1, 'opulence': 1, 'barbaric': 1, 'tops': 1, 'trimmed': 1, 'calves': 1, 'pittance': 1, 'girls': 1, 'interposed': 1, 'obtruded': 1, 'impossibility': 1, 'expired': 1, 'flags': 1, 'newer': 1, 'whined': 1, 'broadened': 1, 'hook': 1, 'explanations': 1, 'partially': 1, 'beginnings': 1, 'analytical': 1, '8s': 1, '4th': 1, 'rouse': 1, 'engineers': 1, 'jealously': 1, 'cobwebby': 1, 'ancient': 1, 'pie': 1, 'gras': 1, 'foie': 1, 'pheasant': 1, 'brace': 1, 'echoes': 1, 'hide': 1, 'convulsed': 1, 'devised': 1, 'neighbour': 1, 'heed': 1, 'tailing': 1, 'gushes': 1, 'slavey': 1, 'slitting': 1, 'malignant': 1, 'motionless': 1, 'vacantly': 1, 'briar': 1, 'carlsbad': 1, 'accomplishments': 1, 'bald': 1, 'blur': 1, 'frosted': 1, 'handing': 1, 'gales': 1, 'equinoctial': 1, 'wisely': 1, 'boswell': 1, 'customary': 1, 'amplifying': 1, 'planted': 1, 'junior': 1, 'makings': 1, 'theoretical': 1, 'heel': 1, 'disturbed': 1, 'safer': 1, 'narrowly': 1, 'springs': 1, 'occupations': 1, 'slab': 1, 'successors': 1, 'ornament': 1, 'brassy': 1, 'drab': 1, 'unbuttoned': 1, 'shepherd': 1, 'baggy': 1, 'limited': 1, 'clinched': 1, 'fury': 1, 'undoing': 1, 'incomplete': 1, 'investment': 1, 'seaports': 1, 'safeguard': 1, 'outcry': 1, '150': 1, 'wines': 1, 'tidy': 1, 'tottenham': 1, 'extracts': 1, 'arrange': 1, 'base': 1, 'amateur': 1, 'notices': 1, 'sally': 1, 'license': 1, 'informality': 1, 'impending': 1, 'bigger': 1, 'simpler': 1, 'apt': 1, 'cadaverous': 1, 'scraping': 1, 'oct': 1, 'busybody': 1, 'implicating': 1, 'admitted': 1, 'drowsiness': 1, 'ambition': 1, 'alternating': 1, 'loathed': 1, 'absorb': 1, 'establishment': 1, 'centred': 1, 'filed': 1, 'fled': 1, 'beggarman': 1, 'marble': 1, 'slabs': 1, 'wiser': 1, 'wickedness': 1, 'hidden': 1, 'hellish': 1, 'deeds': 1, 'peaceful': 1, 'rapt': 1, 'refreshingly': 1, 'traditions': 1, 'unfettered': 1, 'tomboy': 1, 'awaited': 1, 'imprudently': 1, 'fitting': 1, 'travelling': 1, 'taller': 1, 'gaunter': 1, 'gaunt': 1, 'attended': 1, 'sloping': 1, 'intelligent': 1, 'rounded': 1, 'revellers': 1, 'belated': 1, 'shouts': 1, 'songs': 1, 'mortar': 1, 'wilderness': 1, 'frightful': 1, 'affliction': 1, 'fathom': 1, 'lighten': 1, 'disown': 1, 'glaring': 1, 'lame': 1, 'limped': 1, 'pattered': 1, 'greasy': 1, 'descends': 1, 'charity': 1, 'reliability': 1, 'tenable': 1, 'mortgage': 1, 'strangest': 1, 'repeat': 1, 'accomplish': 1, 'meets': 1, 'dig': 1, '35': 1, 'proceeded': 1, 'shopping': 1, 'beckoned': 1, 'fulfilled': 1, 'prediction': 1, 'americans': 1, 'native': 1, 'mates': 1, 'prefers': 1, 'writes': 1, 'squatted': 1, 'fatally': 1, 'juryman': 1, 'coppers': 1, 'filling': 1, 'ghastly': 1, 'inspiring': 1, 'reporting': 1, 'dollars': 1, 'wigs': 1, 'deceived': 1, 'improbable': 1, 'discontent': 1, 'mischief': 1, 'intently': 1, 'smoothing': 1, 'eagerness': 1, 'interim': 1, 'hurling': 1, 'margin': 1, 'rifts': 1, 'wrack': 1, 'soldier': 1, 'befall': 1, 'nearing': 1, 'brush': 1, 'tooth': 1, 'cylinder': 1, 'leaking': 1, 'swish': 1, 'clank': 1, 'steamboats': 1, 'wagon': 1, 'hunted': 1, 'restless': 1, 'mottled': 1, 'warmest': 1, 'snoring': 1, 'expectancies': 1, 'currently': 1, 'festivities': 1, 'westbury': 1, 'graceful': 1, 'defect': 1, 'slurring': 1, 'monograph': 1, 'implacable': 1, 'cells': 1, 'jagged': 1, 'aproned': 1, 'ruddy': 1, 'disqualify': 1, 'candidate': 1, 'waddling': 1, 'smear': 1, 'mansions': 1, 'corroborate': 1, 'blot': 1, 'execution': 1, 'endured': 1, 'acquire': 1, 'attained': 1, 'plumped': 1, 'expostulating': 1, 'surpliced': 1, 'distaff': 1, 'tudor': 1, 'descent': 1, 'plantagenet': 1, 'inherit': 1, 'technical': 1, 'rashness': 1, 'unprofitable': 1, 'stale': 1, 'conventionalities': 1, 'fiction': 1, 'leading': 1, 'chains': 1, 'plannings': 1, 'coincidences': 1, 'queer': 1, 'peep': 1, 'hover': 1, 'continues': 1, 'docks': 1, 'dregs': 1, 'spell': 1, 'glided': 1, 'xii': 1, 'viii': 1, 'planter': 1, 'emigrated': 1, 'offering': 1, 'nay': 1, 'jewellery': 1, 'velvet': 1, 'imbedded': 1, 'premature': 1, 'myth': 1, 'breathe': 1, 'curb': 1, 'auckland': 1, 'ned': 1, 'charm': 1, 'unimportant': 1, 'lurking': 1, 'alley': 1, 'shouldn': 1, 'cuttings': 1, 'ponderous': 1, 'eaves': 1, 'elementary': 1, 'acid': 1, 'hydrochloric': 1, 'cleanly': 1, 'pungent': 1, 'tubes': 1, 'array': 1, 'earshot': 1, 'effective': 1, 'supporters': 1, 'encouraging': 1, 'winking': 1, 'foremost': 1, 'lameness': 1, 'select': 1, 'linoleum': 1, 'grotesque': 1, 'fourteenth': 1, 'underground': 1, 'j': 1, 'comforted': 1, 'soothed': 1, 'unpleasantness': 1, 'broadest': 1, 'farthest': 1, 'type': 1, 'sewing': 1, 'daytime': 1, 'claws': 1, 'lobster': 1, 'tenacious': 1, 'waters': 1, 'rake': 1, 'fished': 1, 'hercules': 1, 'attack': 1, 'glances': 1, 'firelight': 1, 'shoe': 1, 'simplicity': 1, 'affectionate': 1, 'temperate': 1, 'contains': 1, 'disappearing': 1, 'lighted': 1, 'lamps': 1, 'nip': 1, 'exhilarating': 1, 'wayward': 1, 'whims': 1, 'perturbed': 1, 'bustling': 1, 'franchise': 1, 'negroes': 1, 'streaked': 1, 'barometric': 1, 'stealthily': 1, 'tread': 1, 'incriminate': 1, 'remedied': 1, 'arresting': 1, 'whenever': 1, 'consequences': 1, 'receipt': 1, 'scribbled': 1, 'sweeping': 1, 'rural': 1, 'colourless': 1, 'inviolate': 1, 'beryl': 1, 'funniest': 1, 'restrain': 1, 'conundrums': 1, 'vex': 1, 'harmony': 1, 'sweetness': 1, 'sandwich': 1, 'disconnected': 1, 'crusted': 1, 'ultimate': 1, 'fulfil': 1, 'finder': 1, 'intrusion': 1, 'disliked': 1, 'refer': 1, 'uncarpeted': 1, 'unpapered': 1, 'bodes': 1, 'derives': 1, 'abnormally': 1, 'dint': 1, 'swindon': 1, 'useless': 1, 'uproar': 1, 'rejoiced': 1, 'extremity': 1, 'pardon': 1, 'reverse': 1, 'favourably': 1, 'speedy': 1, 'conjunction': 1, 'ugly': 1, 'looming': 1, 'surrounds': 1, 'unfeigned': 1, 'creditable': 1, 'conceives': 1, 'prime': 1, 'volley': 1, 'saddles': 1, 'emptied': 1, 'troopers': 1, 'preserves': 1, 'southerton': 1, 'servitude': 1, 'penal': 1, 'readers': 1, 'shared': 1, 'activity': 1, 'ticking': 1, 'roughs': 1, 'shots': 1, 'hague': 1, '77': 1, 'andover': 1, 'transferred': 1, 'bottle': 1, 'penny': 1, 'specialist': 1, 'vizard': 1, 'cheekbones': 1, '250': 1, 'coolness': 1, 'prints': 1, 'kingdom': 1, 'provinces': 1, 'shivering': 1, 'buying': 1, 'valet': 1, 'final': 1, 'attract': 1, 'wight': 1, 'isle': 1, 'goodwins': 1, 'easterly': 1, 'plunging': 1, 'whine': 1, 'catlike': 1, 'apparition': 1, 'texture': 1, 'crude': 1, 'writers': 1, 'crudest': 1, 'slapped': 1, 'suavely': 1, 'engine': 1, 'spectators': 1, 'atmosphere': 1, 'uncongenial': 1, 'laden': 1, 'clumps': 1, 'weedy': 1, 'railed': 1, 'storied': 1, 'dingy': 1, 'genteel': 1, 'poky': 1, 'necessitate': 1, 'immediate': 1, '26': 1, 'dooties': 1, 'blotches': 1, 'unhealthy': 1, 'peeling': 1, 'carpets': 1, 'morris': 1, 'artificial': 1, 'manufactory': 1, 'indiscreetly': 1, 'prolong': 1, 'imitated': 1, 'wriggled': 1, 'planned': 1, 'infer': 1, 'canvas': 1, 'nautical': 1, 'decidedly': 1, 'attired': 1, 'texas': 1, 'entitles': 1, 'pennsylvania': 1, 'lebanon': 1, 'hopkins': 1, 'ezekiah': 1, 'bequest': 1, 'liar': 1, 'forfeit': 1, 'pausing': 1, 'obedience': 1, 'breathlessly': 1, 'ringing': 1, 'knelt': 1, 'socket': 1, 'shrunk': 1, 'rod': 1, 'bands': 1, 'transform': 1, 'squalid': 1, 'vagueness': 1, 'quivered': 1, 'florid': 1, 'autumn': 1, 'sussex': 1, '1870': 1, 'fathomed': 1, 'unsolved': 1, 'idler': 1, 'aisle': 1, 'employing': 1, 'supposed': 1, 'reception': 1, 'conceivable': 1, 'klan': 1, 'klux': 1, 'ku': 1, 'role': 1, 'prepare': 1, 'compared': 1, 'puny': 1, 'overlook': 1, 'delirium': 1, 'managing': 1, '7th': 1, 'shuffled': 1, 'depended': 1, 'slipper': 1, 'cockroaches': 1, 'killing': 1, 'tailed': 1, 'restore': 1, 'ours': 1, 'legible': 1, 'warren': 1, 'visiting': 1, 'lightened': 1, 'singularity': 1, 'parched': 1, 'courage': 1, 'gripping': 1, 'weakening': 1, 'replace': 1, 'averted': 1, 'mining': 1, 'counterpaned': 1, 'yell': 1, 'swelled': 1, 'exclude': 1, 'outset': 1, 'develop': 1, 'diving': 1, 'improving': 1, 'camera': 1, 'snapping': 1, 'woke': 1, 'augustine': 1, 'swain': 1, 'bunch': 1, 'oversight': 1, 'involved': 1, 'tomorrow': 1, 'crewe': 1, 'twig': 1, 'mangled': 1, 'horribly': 1, 'illustrious': 1, 'parsonage': 1, 'distant': 1, 'budge': 1, 'comply': 1, 'struggling': 1, 'achieved': 1, 'deductive': 1, 'openings': 1, 'inception': 1, 'finer': 1, 'afforded': 1, 'hang': 1, 'issues': 1, 'suggestiveness': 1, 'cracked': 1, 'tone': 1, 'jesting': 1, 'characters': 1, 'transformer': 1, 'jealousy': 1, 'folks': 1, 'brawls': 1, 'created': 1, 'harris': 1, 'permit': 1, 'attics': 1, 'serpent': 1, 'loathsome': 1, 'puffed': 1, 'squat': 1, 'reared': 1, 'headgear': 1, 'status': 1, 'affectation': 1, 'promising': 1, 'receiver': 1, 'locality': 1, 'succinct': 1, 'pictured': 1, 'shelves': 1, 'dismantled': 1, 'deluded': 1, 'denial': 1, 'butt': 1, 'agree': 1, 'monosyllables': 1, 'monotony': 1, 'hazarded': 1, 'butcher': 1, 'loosed': 1, 'illegal': 1, 'assault': 1, 'fasten': 1, 'finest': 1, 'jeweller': 1, 'calhoun': 1, 'captain': 1, 'determination': 1, 'arise': 1, 'prejudice': 1, 'deceptive': 1, 'straightened': 1, 'seeds': 1, 'melon': 1, 'sprig': 1, 'preceded': 1, 'gossiping': 1, 'museum': 1, 'terse': 1, 'holland': 1, 'reigning': 1, 'mustard': 1, 'feed': 1, 'grimly': 1, 'jolted': 1, 'lurched': 1, 'bowing': 1, 'forming': 1, 'intensity': 1, 'plentiful': 1, 'catastrophe': 1, 'windfall': 1, 'hopeful': 1, 'lifeless': 1, 'vegetables': 1, 'carts': 1, 'copier': 1, 'kensington': 1, 'felstein': 1, 'cassel': 1, 'sigismond': 1, 'gottsreich': 1, 'wilhelm': 1, 'accuser': 1, 'tinge': 1, 'litter': 1, 'opposed': 1, 'murdering': 1, 'voters': 1, 'negro': 1, 'terrorising': 1, 'principally': 1, 'political': 1, '221b': 1, '6': 1, '2nd': 1, '10': 1, 'barber': 1, 'discloses': 1, 'reporter': 1, 'kicked': 1, 'deserve': 1, 'landscape': 1, 'ostrich': 1, 'streamed': 1, 'impatient': 1, 'unheeded': 1, 'concentrated': 1, 'dilate': 1, 'melbourne': 1, 'convoy': 1, 'perfection': 1, 'unmarried': 1, 'grabs': 1, 'manifestations': 1, 'lowliest': 1, 'telegraph': 1, 'tossing': 1, 'scales': 1, 'fishes': 1, 'staining': 1, 'unthinkable': 1, 'roylotts': 1, 'varied': 1, 'gesellschaft': 1, 'counts': 1, '1846': 1, 'tip': 1, 'modern': 1, 'repair': 1, 'plainer': 1, 'pikestaff': 1, 'abomination': 1, 'cigarettes': 1, 'caseful': 1, 'chronicler': 1, 'comrade': 1, 'enjoy': 1, 'magistrates': 1, 'tuesday': 1, 'wilful': 1, 'steamed': 1, 'wax': 1, 'cobbler': 1, 'lighting': 1, 'resentment': 1, 'blinked': 1, 'riser': 1, 'buckles': 1, 'sticking': 1, 'harness': 1, 'tags': 1, 'bandage': 1, 'resolutions': 1, 'fearless': 1, 'swift': 1, 'baits': 1, 'coin': 1, 'chinese': 1, 'feasible': 1, 'defiantly': 1, 'maddening': 1, 'stuff': 1, 'moistened': 1, 'jug': 1, 'reopened': 1, 'progress': 1, 'libraries': 1, 'governess': 1, 'momentary': 1, 'dreaming': 1, 'assertion': 1, 'plunged': 1, 'overwhelmed': 1, 'trunk': 1, 'undid': 1, 'feelings': 1, 'bend': 1, 'stoop': 1, 'undue': 1, 'setting': 1, 'burnished': 1, 'safes': 1, 'bankers': 1, 'bitterness': 1, 'kindliness': 1, 'grace': 1, 'conspiring': 1, 'slit': 1, 'bleak': 1, 'consequential': 1, 'couples': 1, 'encompass': 1, 'dangers': 1, 'remonstrance': 1, 'dissolved': 1, 'document': 1, 'curly': 1, 'amuse': 1, '7s': 1, 'experienced': 1, 'slide': 1, 'assuring': 1, 'advertisements': 1, 'depressed': 1, 'vehemence': 1, 'flecked': 1, 'founder': 1, 'compromised': 1, 'philanthropist': 1, 'fad': 1, 'abnormal': 1, 'munificent': 1, 'sadly': 1, 'portsdown': 1, 'forts': 1, 'command': 1, 'freebody': 1, 'selections': 1, 'tankerville': 1, 'distorted': 1, 'darted': 1, 'crane': 1, 'percy': 1, 'rift': 1, 'workmen': 1, 'scaffolding': 1, 'quivering': 1, 'longed': 1, 'geniality': 1, 'thrilling': 1, 'earned': 1, 'chanced': 1, 'beloved': 1, 'incites': 1, 'splashing': 1, 'howling': 1, 'frogged': 1, 'peaked': 1, 'impulsive': 1, 'excitable': 1, 'effected': 1, 'struggled': 1, 'overseen': 1, 'quavering': 1, 'introducing': 1, 'oaths': 1, 'sworn': 1, 'shipping': 1, 'expecting': 1, 'parcel': 1, 'wondered': 1, 'biographies': 1, 'fills': 1, 'lent': 1, 'snakish': 1, 'unkempt': 1, 'complimented': 1, 'moustached': 1, 'stamp': 1, 'rockies': 1, 'mcquire': 1, '84': 1, 'assistants': 1, 'prosperous': 1, 'category': 1, 'forgo': 1, 'patch': 1, 'cuff': 1, 'perplexing': 1, 'pained': 1, 'hungry': 1, 'apologise': 1, 'accompany': 1, 'discriminate': 1, 'strand': 1, 'furnish': 1, 'concerning': 1, 'paragraphs': 1, 'docketing': 1, 'petered': 1, 'tack': 1, 'hammered': 1, 'recourse': 1, 'shawl': 1, 'revolved': 1, 'italian': 1, 'programme': 1, 'tools': 1, 'idle': 1, 'evolved': 1, 'ambitious': 1, 'lords': 1, 'daresay': 1, 'satisfying': 1, 'dawn': 1, 'comparing': 1, 'qualifications': 1, 'registry': 1, 'idiot': 1, 'insanely': 1, 'madly': 1, 'vote': 1, 'casting': 1, 'sholtos': 1, 'welcomed': 1, 'combinations': 1, 'prize': 1, 'inference': 1, 'ancestral': 1, 'messenger': 1, 'fumes': 1, 'stupefying': 1, 'conducting': 1, 'verrons': 1, 'nous': 1, 'sweetly': 1, 'excursion': 1, 'riveted': 1, 'depicted': 1, 'apparent': 1, 'transverse': 1, 'provincial': 1, 'climate': 1, 'willingly': 1, 'various': 1, 'beast': 1, 'venomous': 1, 'inhabited': 1, 'balls': 1, 'gilt': 1, 'harshly': 1, 'battered': 1, 'repaid': 1, 'amply': 1, 'refund': 1, 'grievous': 1, 'pallor': 1, 'slim': 1, 'meanly': 1, 'alterations': 1, 'pending': 1, 'planet': 1, 'daintiest': 1, 'diligence': 1, 'attica': 1, 'architecture': 1, 'armour': 1, 'archery': 1, 'abbots': 1, 'sleepless': 1, 'whiten': 1, 'smiled': 1, 'random': 1, 'hawk': 1, 'amalgam': 1, 'scale': 1, 'coiners': 1, 'astronomy': 1, 'philosophy': 1, 'library': 1, 'regret': 1, 'accompli': 1, 'fait': 1, 'disguises': 1, 'amazing': 1, 'term': 1, 'forebodings': 1, 'steaming': 1, 'threadneedle': 1, 'stevenson': 1, 'alexander': 1, 'danseuse': 1, 'competition': 1, 'roughly': 1, 'indiscretion': 1, 'principle': 1, 'protection': 1, 'lithe': 1, 'hauling': 1, 'chinchilla': 1, 'iii': 1, 'comely': 1, 'eton': 1, 'excitedly': 1, 'glimpses': 1, 'fondness': 1, 'softened': 1, 'heartless': 1, 'selfish': 1, 'dishonoured': 1, 'cushion': 1, 'collected': 1, 'dottles': 1, 'plugs': 1, 'restored': 1, 'advised': 1, 'digs': 1, 'falls': 1, 'schemer': 1, 'recoil': 1, 'caress': 1, 'fairer': 1, 'distinction': 1, 'descend': 1, 'disadvantages': 1, 'prior': 1, 'parlance': 1, 'miners': 1, 'significant': 1, 'resort': 1, 'obtaining': 1, 'device': 1, 'midway': 1, 'recommence': 1, 'padlocked': 1, 'triangular': 1, 'flapped': 1, 'dawdling': 1, 'silhouette': 1, 'branded': 1, 'exquisite': 1, 'lustrous': 1, 'artist': 1, 'miniature': 1, 'ivory': 1, 'volcanic': 1, 'impetuous': 1, 'regain': 1, 'deathbeds': 1, 'fever': 1, 'worrying': 1, 'whither': 1, 'radiance': 1, 'purity': 1, 'bean': 1, 'scintillating': 1, 'nod': 1, 'westphail': 1, 'honoria': 1, 'contradict': 1, 'puckered': 1, 'prying': 1, 'space': 1, 'jostling': 1, 'beings': 1, 'million': 1, 'stables': 1, 'vice': 1, 'striving': 1, 'vainly': 1, 'engines': 1, 'spouting': 1, 'widespread': 1, 'topped': 1, 'acts': 1, 'dane': 1, 'aided': 1, 'hate': 1, 'eaten': 1, 'worm': 1, 'panelling': 1, 'inflamed': 1, 'whiskered': 1, 'kempt': 1, 'lordship': 1, 'brighter': 1, 'tassel': 1, 'protestation': 1, 'bachelors': 1, 'association': 1, 'brim': 1, 'scrawl': 1, 'temples': 1, 'crinkled': 1, 'baryta': 1, 'bisulphate': 1, 'cries': 1, 'drowned': 1, 'clanking': 1, 'remorseless': 1, 'proosia': 1, 'authoritative': 1, 'hansoms': 1, 'madame': 1, 'slighted': 1, 'oxfordshire': 1, 'hoping': 1, 'continents': 1, 'throughout': 1, 'everybody': 1, 'unofficial': 1, 'passionately': 1, 'beamed': 1, 'thanking': 1, 'hiss': 1, 'presuming': 1, 'research': 1, 'abjure': 1, 'openly': 1, 'receiving': 1, 'december': 1, 'delusion': 1, 'snatches': 1, 'whoso': 1, 'cub': 1, 'tiger': 1, 'taketh': 1, 'persian': 1, 'wigmore': 1, 'harley': 1, 'wimpole': 1, 'crisply': 1, 'authority': 1, 'barricade': 1, 'fattest': 1, 'poetry': 1, 'volumes': 1, 'treatises': 1, 'ignorance': 1, 'tend': 1, 'acquirement': 1, 'comic': 1, 'tragic': 1, 'seventy': 1, 'dug': 1, 'excavating': 1, 'improbabilities': 1, 'tissue': 1, 'exclusion': 1, 'pulp': 1, 'grind': 1, 'jerkily': 1, 'holiday': 1, 'coincident': 1, 'busier': 1, 'food': 1, 'munro': 1, 'spence': 1, 'begins': 1, 'insensibly': 1, 'charred': 1, 'token': 1, 'assurance': 1, 'persuade': 1, 'imperilled': 1, 'wisdom': 1, 'bicycling': 1, 'invention': 1, 'enlarged': 1, 'coventry': 1, 'factory': 1, 'n': 1, 'possess': 1, '12th': 1, 'chamois': 1, 'bowls': 1, 'waned': 1, 'waxed': 1, 'faint': 1, 'shadows': 1, 'cashbox': 1, 'rusty': 1, 'prussian': 1, 'franco': 1, 'munich': 1, '50': 1, 'stumbled': 1, 'frame': 1, 'tottering': 1, 'fashioned': 1, 'embankment': 1, 'thudding': 1, 'undated': 1, 'abode': 1, 'preceding': 1, 'summonses': 1, 'unwelcome': 1, 'confound': 1, 'insolence': 1, 'gift': 1, 'swimmer': 1, 'plunge': 1, 'nation': 1, 'convulse': 1, 'wedged': 1, 'dejected': 1, 'christ': 1, 'purport': 1, 'accurate': 1, 'chairman': 1, 'concert': 1, 'affect': 1, 'insane': 1, 'depot': 1, 'mcfarlane': 1, 'restaurant': 1, 'vegetarian': 1, 'tobacconist': 1, 'mortimer': 1, 'cringe': 1, 'cent': 1, 'per': 1, '1': 1, 'zealand': 1, 'chronic': 1, 'purveyor': 1, 'commit': 1, 'crystals': 1, 'ice': 1, 'warmed': 1, 'holborn': 1, 'bloomsbury': 1, 'sable': 1, 'fess': 1, 'caltrops': 1, 'azure': 1, 'pshaw': 1, 'relate': 1, 'adder': 1, 'swamp': 1, 'wig': 1, 'pigments': 1, 'tiptoes': 1, 'petrified': 1, 'viewed': 1, 'narrated': 1, 'sequence': 1, 'brings': 1, 'hastening': 1, 'everyday': 1, 'humdrum': 1, 'conventions': 1, 'wheeled': 1, 'wellington': 1, 'officers': 1, 'elaborate': 1, 'tricked': 1, 'glint': 1, '4d': 1, 'wont': 1, 'conceit': 1, 'selfishness': 1, 'outbreak': 1, 'humours': 1, 'asylum': 1, 'lunatic': 1, 'addressed': 1, 'allied': 1, 'souls': 1, 'bind': 1, 'links': 1, 'twins': 1, 'akimbo': 1, 'precursor': 1, 'suffering': 1, 'masculine': 1, 'nut': 1, 'dispose': 1, 'dearly': 1, 'piping': 1, 'reduced': 1, 'sunset': 1, 'flame': 1, 'vivid': 1, 'liver': 1, 'setter': 1, 'irish': 1, 'lemon': 1, 'wheal': 1, 'incarnate': 1, 'impressions': 1, 'willows': 1, 'supplementing': 1, 'needs': 1, 'dine': 1, 'scotch': 1, 'recognising': 1, 'surroundings': 1, 'rustic': 1, 'leggings': 1, 'dustcoat': 1, 'inarticulate': 1, 'gum': 1, 'nobody': 1, 'yawning': 1, 'earning': 1, 'tune': 1, 'humming': 1, 'repented': 1, 'undergo': 1, 'combination': 1, 'humanity': 1, 'elise': 1, 'pestered': 1, 'salt': 1, 'gullet': 1, 'gulp': 1, 'encourage': 1, 'lonelier': 1, 'shy': 1, 'nurtured': 1, 'theorize': 1, '60': 1, 'departed': 1, 'highness': 1, 'nipper': 1, 'handled': 1, 'language': 1, 'elder': 1, 'betray': 1, 'savagely': 1, 'flashing': 1, 'hubbub': 1, 'hood': 1, 'jackson': 1, 'fought': 1, 'camberwell': 1, 'lyon': 1, '31': 1, 'magician': 1, 'sovereigns': 1, 'planked': 1, 'banks': 1, 'divined': 1, 'knitted': 1, 'reproachfully': 1, 'smartest': 1, 'rickety': 1, 'pentonville': 1, 'maudsley': 1, 'sterner': 1, '8d': 1, 'tents': 1, 'hospitality': 1, 'represent': 1, 'bramble': 1, 'encamp': 1, 'vagabonds': 1, 'octavo': 1, 'pencil': 1, 'chased': 1, 'fighting': 1, 'heaving': 1, 'theirs': 1, 'weave': 1, 'fed': 1, 'balancing': 1, 'crying': 1, 'shelter': 1, 'commonplaces': 1, 'alter': 1, 'sufficed': 1, 'relief': 1, 'sigh': 1, 'lengths': 1, 'fatigued': 1, 'naked': 1, 'booted': 1, 'stoutly': 1, 'ridiculously': 1, 'played': 1, 'sweat': 1, 'vacant': 1, 'isolation': 1, 'pilot': 1, 'merchant': 1, 'sailed': 1, 'sottish': 1, 'purchasing': 1, 'deuce': 1, 'expiring': 1, 'net': 1, 'reabsorbed': 1, 'weed': 1, 'sea': 1, 'blown': 1, 'elements': 1, 'rumour': 1, 'anxiously': 1, 'langham': 1, 'thickness': 1, 'assert': 1, 'uppermost': 1, 'deserting': 1, 'developed': 1, 'muscles': 1, 'swaying': 1, 'blanched': 1, '220': 1, '88': 1, 'ascertain': 1, 'spinning': 1, 'failing': 1, 'invariable': 1, 'asks': 1, 'pleading': 1, 'reaped': 1, 'harvest': 1, 'rejected': 1, 'foolishly': 1, 'possessed': 1, 'craggy': 1, 'decrepitude': 1, 'limping': 1, 'assisted': 1, 'bold': 1, 'forbid': 1, 'satisfactory': 1, 'notorious': 1, 'investigated': 1, 'staggering': 1, 'imbecility': 1, 'incredible': 1, 'shudder': 1, 'distrusted': 1, 'cynical': 1, 'glamour': 1, 'sinewy': 1, 'values': 1, 'plover': 1, 'freckled': 1, 'tier': 1, 'therein': 1, 'footman': 1, 'butler': 1, 'ejected': 1, 'overcome': 1, 'hunt': 1, 'congenial': 1, 'logician': 1, 'ingenuity': 1, 'fugitives': 1, 'containing': 1, 'peasant': 1, 'infernal': 1, 'wintry': 1, 'shimmering': 1, 'approvingly': 1, 'nodding': 1, 'forgery': 1, 'ere': 1, 'dash': 1, 'deception': 1, 'encircled': 1, 'bob': 1, 'weaknesses': 1, 'injections': 1, 'hopeless': 1, 'essence': 1, 'contain': 1, 'magistrate': 1, 'platitudes': 1, 'stress': 1, 'report': 1, 'arteries': 1, 'withdrawn': 1, 'agitated': 1, 'abruptly': 1, 'astute': 1, 'avoided': 1, 'refinement': 1, 'trimly': 1, 'groomed': 1, 'toast': 1, 'untimely': 1, 'freed': 1, 'agra': 1, 'sholto': 1, 'alias': 1, 'bounded': 1, 'marshy': 1, 'frowning': 1, 'relaxed': 1, 'peculiarly': 1, 'brightness': 1, 'nobleman': 1, 'positions': 1, 'amusement': 1, 'sink': 1, 'swim': 1, 'seize': 1, 'crony': 1, 'tangible': 1, 'pondered': 1, 'ejaculated': 1, 'opera': 1, 'imperial': 1, 'donna': 1, 'prima': 1, 'regurgitation': 1, 'leakage': 1, 'whishing': 1, 'architects': 1, 'climbed': 1, 'drifted': 1, 'inquiring': 1, 'passengers': 1, 'slippery': 1, 'dangerously': 1, 'cleaned': 1, 'hollowed': 1, 'thresholds': 1, 'staircases': 1, 'passages': 1, 'corridors': 1, 'realism': 1, 'reports': 1, 'ruse': 1, 'flattening': 1, 'verbatim': 1, 'weekly': 1, 'attainments': 1, 'caged': 1, 'radius': 1, 'manageress': 1, 'intrusted': 1, 'treachery': 1, 'blackest': 1, 'scrupulous': 1, 'acquired': 1, 'napoleons': 1, 'borrowed': 1, 'resources': 1, 'strengthen': 1, 'agrees': 1, 'surface': 1, 'spongy': 1, 'iv': 1, 'splash': 1, 'cook': 1, 'straining': 1, 'bordeaux': 1, 'consented': 1, 'expound': 1, 'hayling': 1, 'jeremiah': 1, 'beforehand': 1, 'slits': 1, 'flat': 1, 'confectioner': 1, 'bedside': 1, 'engaging': 1, 'awaiting': 1, 'aspired': 1, 'trifles': 1, 'disturbing': 1, 'lenses': 1, 'sensitive': 1, 'grit': 1, 'noted': 1, 'decided': 1, 'privacy': 1, 'obstacle': 1, 'engage': 1, 'headstrong': 1, 'defects': 1, 'relentless': 1, 'hound': 1, 'sleuth': 1, 'unlike': 1, 'dreamy': 1, 'van': 1, 'sparkles': 1, 'glints': 1, 'gentlemanly': 1, 'excessive': 1, 'inheritance': 1, 'decline': 1, 'middlesex': 1, 'expressly': 1, 'pursuers': 1, 'smarting': 1, 'fastening': 1, 'jerking': 1, 'lasting': 1, 'poorer': 1, 'robber': 1, 'bush': 1, 'construction': 1, 'occupy': 1, 'withdraw': 1, 'hasp': 1, 'undo': 1, 'boxed': 1, 'redder': 1, 'leaped': 1, 'enables': 1, 'mercy': 1, '7': 1, 'proposal': 1, 'eerie': 1, 'repugnant': 1, 'dishonourable': 1, 'heroic': 1, 'luncheon': 1, 'faintly': 1, 'ledgers': 1, 'consults': 1, 'anteroom': 1, 'employment': 1, 'seeking': 1, 'smiles': 1, 'gesticulating': 1, 'moments': 1, 'intentions': 1, 'villainy': 1, 'alleging': 1, 'bridal': 1, 'ascertained': 1, 'grim': 1, 'vii': 1, 'abandons': 1, 'sacrificed': 1, 'illness': 1, 'hers': 1, '12s': 1, 'ample': 1, 'twinkling': 1, 'unmistakable': 1, 'beige': 1, 'vary': 1, 'egotism': 1, 'repelled': 1, 'coldness': 1, 'meeting': 1, 'contralto': 1, '1858': 1, 'jersey': 1, 'welcome': 1, 'populous': 1, 'healthy': 1, 'contrition': 1, 'reproach': 1, 'ruffian': 1, 'clambered': 1, 'trumpet': 1, 'creeping': 1, '26s': 1, 'plied': 1, 'badge': 1, 'ceases': 1, 'firmness': 1, 'acceptance': 1, 'outbursts': 1, 'commuting': 1, 'cursed': 1, 'dependent': 1}\n"
     ]
    }
   ],
   "source": [
    "#n-gram count\n",
    "#token = [\"this is a sentence\",\"this is something differnt\",\"this is something differnt that this has happend\"]\n",
    "#list contining n-gram\n",
    "unigramLst = LstOfNgram(1,train)  ##the first number here representes the N of N-gram.\n",
    "bigramLst  = LstOfNgram(2,train)\n",
    "trigramLst = LstOfNgram(3,train)\n",
    "quadgramLst= LstOfNgram(4,train)\n",
    "#print (bigramLst)\n",
    "#  query for count of unigram only once\n",
    "feq  =  nltk.FreqDist(unigramLst)\n",
    "freq =  nltk.FreqDist(bigramLst)\n",
    "fre  =  nltk.FreqDist(trigramLst)\n",
    "fr   =  nltk.FreqDist(quadgramLst)\n",
    "\n",
    "#count_unigram={}\n",
    "count_unigram = CountNgram(feq)\n",
    "count_bigram = CountNgram(freq)\n",
    "count_trigram = CountNgram(fre)\n",
    "count_quadgram = CountNgram(fr)\n",
    "print (count_unigram)\n"
   ]
  },
  {
   "cell_type": "code",
   "execution_count": 165,
   "metadata": {
    "scrolled": true
   },
   "outputs": [
    {
     "name": "stdout",
     "output_type": "stream",
     "text": [
      "0.7537390717949953\n"
     ]
    }
   ],
   "source": [
    "#n-gram evalutation, how many n-grams are there\n",
    "#question 6 \n",
    "#p =good_turing(count_bigram)\n",
    "p = goodTurning(count_bigram)\n",
    "p.NewCount()\n",
    "#goodTuning smooting trained"
   ]
  },
  {
   "cell_type": "code",
   "execution_count": null,
   "metadata": {
    "collapsed": true
   },
   "outputs": [],
   "source": [
    "#question 3 and question \n",
    "f1 = MLE(\"a\",\"\",1)\n",
    "f2 = MLE(\"a\",\"is\",2)#probability of bigram \n",
    "f3 = MLE(\"a\", \"this is\",3)\n",
    "#print(f1)\n",
    "#print (f2)\n",
    "#print (f3)\n",
    "print (MLE(\"is\",\"this\",2))\n",
    "\n",
    "#MLE_bigram(\"this\",\"is\") \"this\" given \"is\" = count(\"is this\")/count(is)\n",
    "\n",
    "#finding quadgram of a small courpus is of no use do appears to be a good idea.\n",
    "#p = good_turing(count_bigram)\n",
    "#p\n",
    "\n",
    "\n",
    "#how to do the second part?"
   ]
  },
  {
   "cell_type": "code",
   "execution_count": null,
   "metadata": {
    "collapsed": true
   },
   "outputs": [],
   "source": [
    "#QUESTION 5\n",
    "print (add_1_prob(\"is\",\"this\"))#discounted probability\n",
    "print (add_1_prob(\"nott\",\"here in\"))#new probabilited to the one that is not present\n",
    "print (add_1_prob(\"not\",\"here \"))#new probabilited to the one that is not present"
   ]
  },
  {
   "cell_type": "code",
   "execution_count": null,
   "metadata": {
    "collapsed": true
   },
   "outputs": [],
   "source": [
    "#question 7\n",
    "def prePlexity()"
   ]
  },
  {
   "cell_type": "code",
   "execution_count": null,
   "metadata": {
    "collapsed": true
   },
   "outputs": [],
   "source": []
  },
  {
   "cell_type": "code",
   "execution_count": null,
   "metadata": {
    "collapsed": true
   },
   "outputs": [],
   "source": [
    "#rough work below[a]/count_unigram"
   ]
  },
  {
   "cell_type": "code",
   "execution_count": null,
   "metadata": {
    "collapsed": true
   },
   "outputs": [],
   "source": [
    "l=\"<s>this is a sentence here is.</s>\"\n",
    "token = word_tokenize(l)\n",
    "#print (token)\n",
    "regx = re.compile(\"[a-z0-9]+ [a-z0-9]+\")\n",
    "r =re.findall(regx,l)\n",
    "p= [\"<s>this\", \"this is\",\"is a \",\"a sentence\",\"sentence here\",\"here is\",\"is. </s>\"]\n",
    "print (r)"
   ]
  },
  {
   "cell_type": "code",
   "execution_count": null,
   "metadata": {
    "collapsed": true
   },
   "outputs": [],
   "source": [
    "\n",
    "\n",
    "\n",
    "import re\n",
    "l = \"this is a sentence here is\"\n",
    "token1 = word_tokenize(l)\n",
    "token1 = [\"<s>\"]+token1\n",
    "token1.append(\"</s>\")\n",
    "n_gram = []\n",
    "n=2 #bigram \n",
    "#so keeping a sentence token is a good idea\n",
    "#for i in range(n-1,len(token)):#start with the n-1 of the n gram, so that it does not give any error\n",
    " #   n_gram.append(token[i-1]+\" \"+token[i])\n",
    "#print (n_gram)\n",
    "\n",
    "#for n gram              <s>this is a sentence here is</s>\n",
    "print (token1)\n",
    "for i in range(n-1,len(token1)):\n",
    "    p=\" \"\n",
    "    for j in range(n):\n",
    "       p = token1[i-j]+\" \"+p   #i,i-1,i-2,i-3,i-4,i-5,...,i-(n-1)\n",
    "       #more things to be added here\n",
    "    n_gram.append(p)\n",
    "#print (n_gram)"
   ]
  },
  {
   "cell_type": "code",
   "execution_count": null,
   "metadata": {
    "collapsed": true
   },
   "outputs": [],
   "source": []
  },
  {
   "cell_type": "code",
   "execution_count": null,
   "metadata": {
    "collapsed": true
   },
   "outputs": [],
   "source": []
  },
  {
   "cell_type": "code",
   "execution_count": null,
   "metadata": {
    "collapsed": true
   },
   "outputs": [],
   "source": [
    "1"
   ]
  },
  {
   "cell_type": "code",
   "execution_count": null,
   "metadata": {
    "collapsed": true
   },
   "outputs": [],
   "source": [
    "l={\"this\":4,\"is\":3,\"my\":4,\"country\":3,\"hello\":1,\"bitch\":2}\n",
    "\n"
   ]
  },
  {
   "cell_type": "code",
   "execution_count": null,
   "metadata": {
    "collapsed": true
   },
   "outputs": [],
   "source": [
    "l=[1,2,3,3,4,4,4,5,5,5,5,5,5,7,8,8,10,10,10,11,12]\n",
    "l={\"this\":4,\"is\":3,\"my\":4,\"country\":3,\"hello\":1,\"bitch\":2}\n",
    "\n",
    "l=list(l.values())\n",
    "l.sort()\n",
    "\n",
    "#we want a dictionary with {1:1,2:1,3:2,4:3,5:1}\n",
    "d={}\n",
    "for i in range(len(l)):\n",
    "    count =1\n",
    "    for j in range(i,0,-1):\n",
    "        if l[i] == l[j-1]:\n",
    "            count = count + 1\n",
    "          \n",
    "        else:\n",
    "            break \n",
    "    \n",
    "    d[l[i]] = count\n",
    "d"
   ]
  },
  {
   "cell_type": "code",
   "execution_count": null,
   "metadata": {
    "collapsed": true
   },
   "outputs": [],
   "source": [
    "p = get_NLst()\n",
    "p\n"
   ]
  },
  {
   "cell_type": "code",
   "execution_count": null,
   "metadata": {
    "collapsed": true
   },
   "outputs": [],
   "source": [
    "print (p)"
   ]
  },
  {
   "cell_type": "code",
   "execution_count": null,
   "metadata": {
    "collapsed": true
   },
   "outputs": [],
   "source": [
    "l=[1,2,3,4,5]\n",
    "p=l.copy()\n",
    "p[0]= 2\n",
    "p\n",
    "\n"
   ]
  },
  {
   "cell_type": "code",
   "execution_count": null,
   "metadata": {
    "collapsed": true
   },
   "outputs": [],
   "source": [
    "import numpy as np\n",
    "l={\"this\":4,\"is\":3,\"my\":4,\"country\":3,\"hello\":1,\"bitch\":2}\n",
    "\n",
    "dictN = get_NLst(l)#dictionary of all the N's and corresponding values\n",
    "\n",
    "keys = list(dictN.keys())\n",
    "values = list(dictN.values())\n",
    "for i in l.keys():\n",
    "    try:\n",
    "       \n",
    "        l[i] = (l[i]+1)*(dictN[l[i]+1]/dictN[l[i]])\n",
    "    except:\n",
    "        intr = np.interp(l[i]+1,keys,values)\n",
    "        \n",
    "        l[i] = (l[i]+1)*(intr/dictN[l[i]])\n",
    "l\n"
   ]
  },
  {
   "cell_type": "code",
   "execution_count": null,
   "metadata": {
    "collapsed": true
   },
   "outputs": [],
   "source": [
    "l = [\"<s>this is a sentence for me<\\s>\",\"<s>that is a sentence for you man<\\s>\"]\n",
    "#inverse of all the bigram probability to the power N,\n",
    "#probability of all the MLE birams\n",
    "#define a function that takes the sentences from the test data set and give out ptobability.\n",
    "\n"
   ]
  }
 ],
 "metadata": {
  "kernelspec": {
   "display_name": "Python 3",
   "language": "python",
   "name": "python3"
  },
  "language_info": {
   "codemirror_mode": {
    "name": "ipython",
    "version": 3
   },
   "file_extension": ".py",
   "mimetype": "text/x-python",
   "name": "python",
   "nbconvert_exporter": "python",
   "pygments_lexer": "ipython3",
   "version": "3.6.3"
  }
 },
 "nbformat": 4,
 "nbformat_minor": 2
}
