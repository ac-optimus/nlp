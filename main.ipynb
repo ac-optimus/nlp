{
 "cells": [
  {
   "cell_type": "code",
   "execution_count": 29,
   "metadata": {
    "collapsed": true
   },
   "outputs": [],
   "source": [
    "\n",
    "import re\n",
    "import string\n",
    "from nltk.tokenize import word_tokenize\n",
    "import nltk\n",
    "from operator import itemgetter\n",
    "import matplotlib.pyplot as pyplot\n",
    "import numpy as np\n",
    "from random import shuffle#for shuffling\n",
    "from scipy.optimize import curve_fit"
   ]
  },
  {
   "cell_type": "code",
   "execution_count": 30,
   "metadata": {
    "collapsed": true
   },
   "outputs": [],
   "source": [
    "def tokenizer(l):#give the file name here\n",
    "    f = open(l,'r')\n",
    "    strl = f.read()\n",
    "    list_of_words = word_tokenize(strl)\n",
    "    return list_of_words\n"
   ]
  },
  {
   "cell_type": "code",
   "execution_count": 31,
   "metadata": {
    "collapsed": true
   },
   "outputs": [],
   "source": [
    "def zipfs_law_length(dict_freq):\n",
    "    #lenght is proportional to the rank of the token\n",
    "    #rank is invesly proportional to the frequency of occurence\n",
    "    #length is inversly proportional to frequency of its occurence \n",
    "    list_key = []\n",
    "    list_frequency = []\n",
    "    for (key,fvalue) in reversed(sorted(dict_freq.items(), key = itemgetter(1))):\n",
    "        list_key.append(key)\n",
    "        list_frequency.append(fvalue)\n",
    "    #rank is in revese order\n",
    "    #list_key is the lis of tokens and list_frequency is the list of its occurences\n",
    "    #list_key can be used to plot Zifp's law. the plot of length of word versus the frequency.\n",
    "\n",
    "    o=np.arange(len(list_key))  \n",
    "    \n",
    "    pyplot.plot(o,list_frequency)\n",
    "    pyplot.xlabel('Rank', fontsize=18)\n",
    "    pyplot.ylabel('Frequency', fontsize=16)\n",
    "    pyplot.show()"
   ]
  },
  {
   "cell_type": "code",
   "execution_count": 32,
   "metadata": {
    "collapsed": true
   },
   "outputs": [],
   "source": [
    "#def zipfs_law_meaning():\n",
    "\n",
    "\n",
    "def return_type(tokens__):\n",
    "    return set(tokens__)\n",
    "\n",
    "#|V| = kN**bt\n",
    "#N is the total number of tokens\n",
    "#the funtion returns V, i.e types\n",
    "def function (n,k,bt):\n",
    "    return k*(n**bt)\n"
   ]
  },
  {
   "cell_type": "code",
   "execution_count": 33,
   "metadata": {
    "collapsed": true
   },
   "outputs": [],
   "source": [
    "\n",
    "def heap_law(tokens_): #pass the list of all the tokens\n",
    "    #this law tells how the overall vocabulary(types) grows with the size of the corpus.\n",
    "    #here we only pass number of tokens\n",
    "    #x is the diffent number of tokens and y is the differnt number of corresponding types\n",
    "    #then we use the scilearn curve_fit to get the esitmated paramters\n",
    "    token_sample = [tokens_[0:i] for i in range(0,len(tokens_),900)]\n",
    "    type_samples = [len(set(j)) for j in token_sample]\n",
    "   \n",
    "    #keeps the lenght of the list type\n",
    "    x = [len(tokens_[0:i]) for i in range(0,len(tokens_),900)]\n",
    "    y = type_samples\n",
    "    \n",
    "    pyplot.plot(x,y,label = \"according to data\")\n",
    "    pyplot.legend()\n",
    "    parameters = curve_fit(function, x, y)#paramter order - function that returns y, x, practical y\n",
    "    k,bt = parameters[0]\n",
    "    print (\"The estimated value of k is :\",k,\"The estimated value of beta is:\",bt)\n",
    "    pyplot.plot(x,k*(x**bt), label = \"fit\")\n",
    "    pyplot.legend()\n",
    "    pyplot.xlabel('Token', fontsize=18)\n",
    "    pyplot.ylabel('Types/Unique Words', fontsize=16)\n",
    "    pyplot.show()"
   ]
  },
  {
   "cell_type": "code",
   "execution_count": 34,
   "metadata": {},
   "outputs": [
    {
     "name": "stdout",
     "output_type": "stream",
     "text": [
      "the token number is : 74945\n",
      "the total types are: 8574\n",
      "the lexical richness/ TTR is : 0.11440389619053973\n"
     ]
    },
    {
     "data": {
      "image/png": "[encoded data removed]",
      "text/plain": [
       "<matplotlib.figure.Figure at 0x7fac6354bf98>"
      ]
     },
     "metadata": {},
     "output_type": "display_data"
    },
    {
     "name": "stdout",
     "output_type": "stream",
     "text": [
      "The estimated value of k is : 10.4979840454 The estimated value of beta is: 0.596233988041\n"
     ]
    },
    {
     "data": {
      "image/png": "[encoded data removed]",
      "text/plain": [
       "<matplotlib.figure.Figure at 0x7fac634f39b0>"
      ]
     },
     "metadata": {},
     "output_type": "display_data"
    }
   ],
   "source": [
    "\n",
    "#total number of words present in the corpus\n",
    "tokens = tokenizer('the_adventures_of_top_sawyer.txt')\n",
    "\n",
    "#this will remove the punctuations\n",
    "tokens = [x for x in tokens if not re.fullmatch('[' + string.punctuation + ']+', x)]\n",
    "\n",
    "#number of unique words\n",
    "types = set(tokens)\n",
    "\n",
    "#find the TTR type/token reatio also known as lexical richness\n",
    "TTR = len(types)/len(tokens)\n",
    "#print the outputs\n",
    "print (\"the token number is :\",len(tokens))\n",
    "print (\"the total types are:\",len(types))\n",
    "print (\"the lexical richness/ TTR is :\",TTR)\n",
    "\n",
    "#plot the freq vs rank to check Zipf's law\n",
    "frequency_distribution = nltk.FreqDist(tokens) #this creates a dictionary of words versus frequency\n",
    "\n",
    "zipfs_law_length(frequency_distribution)\n",
    "\n",
    "#heap's law\n",
    "heap_law(tokens)\n",
    "\n",
    "\n"
   ]
  },
  {
   "cell_type": "code",
   "execution_count": null,
   "metadata": {
    "collapsed": true
   },
   "outputs": [],
   "source": []
  },
  {
   "cell_type": "code",
   "execution_count": null,
   "metadata": {
    "collapsed": true
   },
   "outputs": [],
   "source": []
  },
  {
   "cell_type": "code",
   "execution_count": null,
   "metadata": {
    "collapsed": true
   },
   "outputs": [],
   "source": []
  },
  {
   "cell_type": "code",
   "execution_count": null,
   "metadata": {
    "collapsed": true
   },
   "outputs": [],
   "source": []
  }
 ],
 "metadata": {
  "kernelspec": {
   "display_name": "Python 3",
   "language": "python",
   "name": "python3"
  },
  "language_info": {
   "codemirror_mode": {
    "name": "ipython",
    "version": 3
   },
   "file_extension": ".py",
   "mimetype": "text/x-python",
   "name": "python",
   "nbconvert_exporter": "python",
   "pygments_lexer": "ipython3",
   "version": "3.6.3"
  }
 },
 "nbformat": 4,
 "nbformat_minor": 2
}
